{
 "cells": [
  {
   "cell_type": "code",
   "execution_count": null,
   "id": "44902353",
   "metadata": {},
   "outputs": [],
   "source": [
    "\"\"\"\n",
    "                                                    __----~~~~~~~~~~~------___\n",
    "                                   .  .   ~~//====......          __--~ ~~\n",
    "                   -.            \\_|//     |||\\\\  ~~~~~~::::... /~\n",
    "                ___-==_       _-~o~  \\/    |||  \\\\            _/~~-\n",
    "        __---~~~.==~||\\=_    -_--~/_-~|-   |\\\\   \\\\        _/~\n",
    "    _-~~     .=~    |  \\\\-_    '-~7  /-   /  ||    \\      /\n",
    "  .~       .~       |   \\\\ -_    /  /-   /   ||      \\   /\n",
    " /  ____  /         |     \\\\ ~-_/  /|- _/   .||       \\ /\n",
    " |~~    ~~|--~~~~--_ \\     ~==-/   | \\~--===~~        .\\\n",
    "          '         ~-|      /|    |-~\\~~       __--~~\n",
    "                      |-~~-_/ |    |   ~\\_   _-~            /\\\n",
    "                           /  \\     \\__   \\/~                \\__\n",
    "                       _--~ _/ | .-~~____--~-/                  ~~==.\n",
    "                      ((->/~   '.|||' -_|    ~~-/ ,              . _||\n",
    "                                 -_     ~\\      ~~---l__i__i__i--~~_/\n",
    "                                 _-~-__   ~)  \\--______________--~~\n",
    "                               //.-~~~-~_--~- |-------~~~~~~~~\n",
    "                                      //.-~~~--\\\n",
    "                      ~~~~~~~~~~~~~~~~~~~~~~~~~~~~~~~~~~~~~~~~~~~\n",
    "\n",
    "                              神兽保佑            永无BUG\n",
    "\n",
    "Author: SessyoinKirin\n",
    "Date: 2025-07-06 11:06:36\n",
    "LastEditors: SessyoinKirin\n",
    "LastEditTime: 2025-07-06 12:05:12\n",
    "FilePath: \\Pratico\\Curso1.ipynb\n",
    "Description: \n",
    "\n",
    "Copyright (c) 2025 by SessyoinKirin, All Rights Reserved. \n",
    "\"\"\"\n",
    "\n",
    "\n",
    "import numpy as np\n",
    "import matplotlib.pyplot as plt\n",
    "plt.style.use('./arquivoExtensivo/deeplearning.mplstyle')"
   ]
  },
  {
   "cell_type": "markdown",
   "id": "564a78a8",
   "metadata": {},
   "source": [
    "importa arquivo e usar a estilização de matplotlib"
   ]
  },
  {
   "cell_type": "code",
   "execution_count": 3,
   "id": "556c828e",
   "metadata": {},
   "outputs": [
    {
     "name": "stdout",
     "output_type": "stream",
     "text": [
      "xSerie = [1. 2. 3.]\n",
      "ySerie = [300. 500. 750.]\n"
     ]
    }
   ],
   "source": [
    "xSerie = np.array([1.0, 2.0, 3.0])\n",
    "ySerie = np.array([300.0, 500.0, 750])\n",
    "print(f\"xSerie = {xSerie}\")\n",
    "print(f\"ySerie = {ySerie}\")"
   ]
  },
  {
   "cell_type": "code",
   "execution_count": 4,
   "id": "4581cc98",
   "metadata": {},
   "outputs": [
    {
     "name": "stdout",
     "output_type": "stream",
     "text": [
      "xSerie.shape: (3,)\n",
      "número de exemplo é: 3\n"
     ]
    }
   ],
   "source": [
    "print(f\"xSerie.shape: {xSerie.shape}\")\n",
    "m = xSerie.shape[0]\n",
    "print(f\"número de exemplo é: {m}\")"
   ]
  },
  {
   "cell_type": "markdown",
   "id": "55ec074c",
   "metadata": {},
   "source": [
    "No seu código:\n",
    "m = xSerie.shape[0] está pegando o tamanho da primeira dimensão (no caso, 3).\n",
    "\n",
    "O print(f\"número de exemplo é: {m}\") exibirá número de exemplo é: 3, indicando que há 3 exemplos na sua série.\n",
    "\n",
    "Resumo:\n",
    "(3,) → Formato unidimensional com 3 elementos.\n",
    "\n",
    "shape[0] retorna o tamanho da primeira dimensão (no caso, 3)."
   ]
  },
  {
   "cell_type": "code",
   "execution_count": 6,
   "id": "f320dd7f",
   "metadata": {},
   "outputs": [
    {
     "name": "stdout",
     "output_type": "stream",
     "text": [
      "número de exemplo é: 3\n",
      "o tipo de len: <class 'int'>\n"
     ]
    }
   ],
   "source": [
    "m = len(xSerie)\n",
    "print(f\"número de exemplo é: {m}\")\n",
    "print(f\"o tipo de len: {type(len(xSerie))}\")"
   ]
  },
  {
   "cell_type": "code",
   "execution_count": 7,
   "id": "a82d3227",
   "metadata": {},
   "outputs": [
    {
     "name": "stdout",
     "output_type": "stream",
     "text": [
      "Dentro do for x: 0 , 1.0\n",
      "Dentro do for y: 0 , 300.0\n",
      "Dentro do for x: 1 , 2.0\n",
      "Dentro do for y: 1 , 500.0\n"
     ]
    }
   ],
   "source": [
    "n = 2\n",
    "for i in range(n):\n",
    "    xi = xSerie[i]\n",
    "    print(f\"Dentro do for x: {i} , {xi}\")\n",
    "    yi = ySerie[i]\n",
    "    print(f\"Dentro do for y: {i} , {yi}\")"
   ]
  },
  {
   "cell_type": "code",
   "execution_count": 9,
   "id": "22a33471",
   "metadata": {},
   "outputs": [
    {
     "data": {
      "text/plain": [
       "<function matplotlib.pyplot.show(close=None, block=None)>"
      ]
     },
     "execution_count": 9,
     "metadata": {},
     "output_type": "execute_result"
    },
    {
     "data": {
      "image/png": "[encoded data removed]",
      "text/plain": [
       "<Figure size 640x480 with 1 Axes>"
      ]
     },
     "metadata": {},
     "output_type": "display_data"
    }
   ],
   "source": [
    "# plot os dados\n",
    "plt.scatter(xSerie, ySerie, marker='d', c='green')\n",
    "\n",
    "#set title\n",
    "plt.title(\"Housing Prices\")\n",
    "\n",
    "#set y label\n",
    "plt.ylabel('preço (em 10e3 de dólar)')\n",
    "\n",
    "#set x label\n",
    "plt.xlabel('Tamanho (10e3 sqft)')\n",
    "\n",
    "plt.show"
   ]
  },
  {
   "cell_type": "markdown",
   "id": "8a6da6a9",
   "metadata": {},
   "source": [
    "1. marker='x'\n",
    "Define o formato dos marcadores (pontos) no gráfico.\n",
    "\n",
    "'x' faz com que os pontos sejam exibidos como um \"X\" (cruz) em vez do padrão (geralmente um círculo 'o').\n",
    "\n",
    "Outros marcadores comuns:\n",
    "\n",
    "'o' → Círculo (padrão)\n",
    "\n",
    "'.' → Ponto pequeno\n",
    "\n",
    "'s' → Quadrado\n",
    "\n",
    "'+' → Sinal de mais\n",
    "\n",
    "'d' → Diamante\n",
    "\n",
    "'^', 'v', '<', '>' → Triângulos\n",
    "\n",
    "2. c='r'\n",
    "Define a cor (color) dos marcadores.\n",
    "\n",
    "'r' significa vermelho (red).\n",
    "\n",
    "Pode ser representado de várias formas:\n",
    "\n",
    "Letra única: 'r' (vermelho), 'g' (verde), 'b' (azul), 'k' (preto), etc.\n",
    "\n",
    "Nome da cor: 'red', 'blue', 'green', etc.\n",
    "\n",
    "Código hexadecimal: '#FF0000' (vermelho).\n",
    "\n",
    "Lista de cores (para pontos diferentes)."
   ]
  },
  {
   "cell_type": "markdown",
   "id": "237b7f40",
   "metadata": {},
   "source": [
    "modelo de linear regression\n",
    "fw,b(x[i]) = wx[i] + b"
   ]
  },
  {
   "cell_type": "code",
   "execution_count": 11,
   "id": "33219160",
   "metadata": {},
   "outputs": [
    {
     "name": "stdout",
     "output_type": "stream",
     "text": [
      "O type de shape é: <class 'int'>\n"
     ]
    }
   ],
   "source": [
    "#type de shape\n",
    "print(f\"O type de shape é: {type(xSerie.shape[0])}\")"
   ]
  },
  {
   "cell_type": "code",
   "execution_count": 13,
   "id": "a238046e",
   "metadata": {},
   "outputs": [],
   "source": [
    "w = 100\n",
    "b = 100\n",
    "#função que permite calcular o fwb de linear regression\n",
    "def calculaModelOutput(x, w, b):\n",
    "    # setar m = o tamanho de xSerie em int\n",
    "    m = x.shape[0]\n",
    "    #cria um array de tamanho m com todos os itens 0\n",
    "    fWB = np.zeros(m)\n",
    "    for i in range (m):\n",
    "        fWB[i] = w * x[i] + b\n",
    "    return fWB"
   ]
  },
  {
   "cell_type": "code",
   "execution_count": 14,
   "id": "acb74df2",
   "metadata": {},
   "outputs": [
    {
     "name": "stdout",
     "output_type": "stream",
     "text": [
      "O type de fWBTemp é: <class 'numpy.ndarray'>\n"
     ]
    },
    {
     "data": {
      "image/png": "[encoded data removed]",
      "text/plain": [
       "<Figure size 640x480 with 1 Axes>"
      ]
     },
     "metadata": {},
     "output_type": "display_data"
    }
   ],
   "source": [
    "fWBTemp = calculaModelOutput(xSerie, w, b)\n",
    "print(f\"O type de fWBTemp é: {type(fWBTemp)}\")\n",
    "\n",
    "#plot model prediction\n",
    "plt.plot(xSerie, fWBTemp, c='b', label='prediction')\n",
    "\n",
    "#plot data point\n",
    "plt.scatter(xSerie, fWBTemp, marker='d', c='green', label='valores atuais')\n",
    "\n",
    "#set title\n",
    "plt.title(\"Housing Prices\")\n",
    "\n",
    "#set y axis\n",
    "plt.ylabel('Preço (em 10e3 dólares)')\n",
    "\n",
    "#set x axis\n",
    "plt.xlabel('Tamanho (em 10e3 sqft)')\n",
    "\n",
    "plt.legend()\n",
    "plt.show()"
   ]
  },
  {
   "cell_type": "code",
   "execution_count": 16,
   "id": "0d385cb0",
   "metadata": {},
   "outputs": [
    {
     "name": "stdout",
     "output_type": "stream",
     "text": [
      "$340.00 mil dólares\n"
     ]
    }
   ],
   "source": [
    "#prediction simples\n",
    "w = 200\n",
    "b = 100\n",
    "xi = 1.2\n",
    "custo = w * xi + b\n",
    "print(f\"${custo:.2f} mil dólares\")"
   ]
  }
 ],
 "metadata": {
  "kernelspec": {
   "display_name": "Python 3",
   "language": "python",
   "name": "python3"
  },
  "language_info": {
   "codemirror_mode": {
    "name": "ipython",
    "version": 3
   },
   "file_extension": ".py",
   "mimetype": "text/x-python",
   "name": "python",
   "nbconvert_exporter": "python",
   "pygments_lexer": "ipython3",
   "version": "3.13.5"
  }
 },
 "nbformat": 4,
 "nbformat_minor": 5
}
