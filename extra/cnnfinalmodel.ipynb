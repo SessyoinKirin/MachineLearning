{
  "cells": [
    {
      "cell_type": "code",
      "execution_count": 1,
      "metadata": {
        "colab": {
          "base_uri": "https://localhost:8080/"
        },
        "execution": {
          "iopub.execute_input": "2025-10-28T00:02:50.469327Z",
          "iopub.status.busy": "2025-10-28T00:02:50.469054Z",
          "iopub.status.idle": "2025-10-28T00:02:50.475377Z",
          "shell.execute_reply": "2025-10-28T00:02:50.474833Z",
          "shell.execute_reply.started": "2025-10-28T00:02:50.469297Z"
        },
        "id": "lKziR8mSVhI9",
        "outputId": "ce8ab9b2-a85d-4507-d0ba-d6a84baa0eb9",
        "trusted": true
      },
      "outputs": [
        {
          "output_type": "stream",
          "name": "stdout",
          "text": [
            "Using Colab cache for faster access to the 'planets-dataset' dataset.\n",
            "Path to dataset files: /kaggle/input/planets-dataset\n",
            "        image_name                                           tags\n",
            "0          train_0                                   haze primary\n",
            "1          train_1                agriculture clear primary water\n",
            "2          train_2                                  clear primary\n",
            "3          train_3                                  clear primary\n",
            "4          train_4      agriculture clear habitation primary road\n",
            "...            ...                                            ...\n",
            "40474  train_40474                                  clear primary\n",
            "40475  train_40475                                         cloudy\n",
            "40476  train_40476                      agriculture clear primary\n",
            "40477  train_40477                 agriculture clear primary road\n",
            "40478  train_40478  agriculture cultivation partly_cloudy primary\n",
            "\n",
            "[40479 rows x 2 columns]\n",
            "Frequência por tag:\n",
            "tags\n",
            "primary              37513\n",
            "clear                28431\n",
            "agriculture          12315\n",
            "road                  8071\n",
            "water                 7411\n",
            "partly_cloudy         7261\n",
            "cultivation           4547\n",
            "habitation            3660\n",
            "haze                  2697\n",
            "cloudy                2089\n",
            "bare_ground            862\n",
            "selective_logging      340\n",
            "artisinal_mine         339\n",
            "blooming               332\n",
            "slash_burn             209\n",
            "blow_down              101\n",
            "conventional_mine      100\n",
            "Quantidade de imagens com as duas tags ('clear' e 'cloudy'): 0\n",
            "Copying 28431 clear images to /content/dataset/clear...\n",
            "Finished copying clear images.\n",
            "Copying 9350 cloudy images to /content/dataset/cloudy...\n",
            "Finished copying cloudy images.\n"
          ]
        }
      ],
      "source": [
        "import pandas as pd\n",
        "import numpy as np\n",
        "import matplotlib.pyplot as plt\n",
        "import os\n",
        "from PIL import Image\n",
        "import shutil\n",
        "import kagglehub\n",
        "\n",
        "dataset_path = '/root/.cache/kagglehub/datasets/nikitarom/planets-dataset/versions/3/planet/planet' # Corrected path to the downloaded dataset\n",
        "\n",
        "if not os.path.exists(dataset_path):\n",
        "  path = kagglehub.dataset_download(\"nikitarom/planets-dataset\")\n",
        "  print(\"Path to dataset files:\", path)\n",
        "  dataset_path = os.path.join(path, 'planet', 'planet') # Adjust path if kagglehub downloads to a different structure\n",
        "else:\n",
        "  path = '/root/.cache/kagglehub/datasets/nikitarom/planets-dataset/versions/3' # Keep original path logic if dataset is already there\n",
        "  dataset_path = os.path.join(path, 'planet', 'planet') # Adjust path if kagglehub downloads to a different structure\n",
        "  print(\"Dataset already downloaded. Path:\", dataset_path)\n",
        "\n",
        "\n",
        "df = pd.read_csv(os.path.join(dataset_path, 'train_classes.csv'))\n",
        "print(df)\n",
        "\n",
        "# Detecta automaticamente a coluna de tags\n",
        "if 'tags' in df.columns:\n",
        "    tag_col = 'tags'\n",
        "else:\n",
        "    tag_col = [c for c in df.columns if 'tag' in c.lower() or 'labels' in c.lower() or 'class' in c.lower()][0]\n",
        "\n",
        "source_dir = os.path.join(dataset_path, 'train-jpg')  # Pasta de origem das imagens\n",
        "dest_dir = '/content/dataset/clear'  # Pasta de destino 1\n",
        "destino_dir = '/content/dataset/cloudy'  # Pasta de destino 2\n",
        "img_dir = os.path.join(dataset_path, 'train-jpg') # Use dataset_path\n",
        "\n",
        "# Explode as tags (separadas por espaço) e conta a frequência de cada uma\n",
        "exploded = df[tag_col].astype(str).str.split().explode()\n",
        "counts = exploded.value_counts().sort_values(ascending=False)\n",
        "\n",
        "# Exibe as frequências\n",
        "print('Frequência por tag:')\n",
        "print(counts.to_string())\n",
        "\n",
        "# Calcular a interseção entre duas tags (tag1 e tag2) e mostrar a quantidade de imagens que possuem ambas\n",
        "\n",
        "tag1 = 'clear'  # Altere para a tag desejada\n",
        "tag2 = 'cloudy'       # Altere para a tag desejada\n",
        "# Função para verificar se ambas as tags estão presentes\n",
        "mask = df[tag_col].apply(lambda x: tag1 in x.split() and tag2 in x.split())\n",
        "\n",
        "intersec_count = mask.sum()\n",
        "print(f\"Quantidade de imagens com as duas tags ('{tag1}' e '{tag2}'): {intersec_count}\")\n",
        "\n",
        "# Copiar todas as imagens com a tag 'clear' para a pasta 'dataset/clear'\n",
        "\n",
        "# Caminhos das pastas\n",
        "\n",
        "os.makedirs(dest_dir, exist_ok=True)  # Cria a pasta de destino, se não existir\n",
        "os.makedirs(destino_dir, exist_ok=True) # Cria a pasta de destino para cloudy, se não existir\n",
        "\n",
        "# Filtrar imagens com a tag 'clear'\n",
        "clear_images = df[df[tag_col].str.contains('clear')]['image_name']\n",
        "\n",
        "# Copiar as imagens\n",
        "print(f\"Copying {len(clear_images)} clear images to {dest_dir}...\")\n",
        "for img_name in clear_images:\n",
        "    src_path = os.path.join(source_dir, f\"{img_name}.jpg\")\n",
        "    dest_path = os.path.join(dest_dir, f\"{img_name}.jpg\")\n",
        "    if os.path.exists(src_path):\n",
        "        # print(f\"Copiado: {img_name}.jpg\") # Optional: uncomment for detailed copying logs\n",
        "        shutil.copy(src_path, dest_path)\n",
        "    else:\n",
        "        print(f\"Imagem não encontrada: {img_name}.jpg\")\n",
        "print(\"Finished copying clear images.\")\n",
        "\n",
        "# Caminhos das pastas\n",
        "\n",
        "\n",
        "# Filtrar imagens com a tag 'cloudy'\n",
        "cloudy_images = df[df[tag_col].str.contains('cloudy')]['image_name']\n",
        "\n",
        "# Copiar as imagens\n",
        "print(f\"Copying {len(cloudy_images)} cloudy images to {destino_dir}...\")\n",
        "for img_name in cloudy_images:\n",
        "    src_path = os.path.join(source_dir, f\"{img_name}.jpg\")\n",
        "    dest_path = os.path.join(destino_dir, f\"{img_name}.jpg\")\n",
        "    if os.path.exists(src_path):\n",
        "        # print(f\"Copiado: {img_name}.jpg\") # Optional: uncomment for detailed copying logs\n",
        "        shutil.copy(src_path, dest_path)\n",
        "    else:\n",
        "        print(f\"Imagem não encontrada: {img_name}.jpg\")\n",
        "print(\"Finished copying cloudy images.\")"
      ]
    },
    {
      "cell_type": "code",
      "execution_count": 2,
      "metadata": {
        "execution": {
          "iopub.execute_input": "2025-10-28T00:02:50.476753Z",
          "iopub.status.busy": "2025-10-28T00:02:50.476481Z",
          "iopub.status.idle": "2025-10-28T00:02:50.509793Z",
          "shell.execute_reply": "2025-10-28T00:02:50.508972Z",
          "shell.execute_reply.started": "2025-10-28T00:02:50.476728Z"
        },
        "id": "gyn7xoMKeFkx",
        "trusted": true
      },
      "outputs": [],
      "source": [
        "\n",
        "# import os\n",
        "# from PIL import Image\n",
        "# import numpy as np\n",
        "\n",
        "# # --- Configure o caminho para UM ficheiro de imagem ---\n",
        "# # (Use o mesmo caminho base que o seu script de treino)\n",
        "# base_dir = '/kaggle/input/dataset/dataset'\n",
        "# pasta_classe = 'clear' # ou 'cloudy'\n",
        "\n",
        "# # 1. Verifique se a pasta existe e liste o primeiro ficheiro\n",
        "# try:\n",
        "#     caminho_pasta = os.path.join(base_dir, pasta_classe)\n",
        "#     print(f\"Verificando pasta: {caminho_pasta}\")\n",
        "\n",
        "#     # Pega o primeiro ficheiro que encontrar na pasta\n",
        "#     nome_ficheiro = os.listdir(caminho_pasta)[0]\n",
        "#     caminho_ficheiro = os.path.join(caminho_pasta, nome_ficheiro)\n",
        "#     print(f\"Ficheiro de teste encontrado: {caminho_ficheiro}\")\n",
        "\n",
        "#     # 2. Verifique o TAMANHO do ficheiro em bytes\n",
        "#     tamanho_bytes = os.path.getsize(caminho_ficheiro)\n",
        "#     print(f\"TAMANHO DO FICHEIRO: {tamanho_bytes} bytes\")\n",
        "\n",
        "#     if tamanho_bytes < 1000: # Se for menor que 1KB, é quase de certeza um ficheiro vazio/corrompido\n",
        "#         print(\"!!!! ALERTA: O ficheiro é muito pequeno. Provavelmente está vazio. !!!!\")\n",
        "\n",
        "#     # 3. Tente carregar o ficheiro com a biblioteca PIL (Pillow)\n",
        "#     print(\"Tentando carregar com a biblioteca PIL...\")\n",
        "#     img = Image.open(caminho_ficheiro)\n",
        "#     img.load() # Força a leitura dos dados\n",
        "\n",
        "#     print(\"... Sucesso ao carregar com PIL.\")\n",
        "#     print(f\"Formato da imagem (PIL): {img.mode}\")\n",
        "#     print(f\"Tamanho da imagem (PIL): {img.size}\")\n",
        "\n",
        "#     # 4. Converta para numpy para ver os pixels\n",
        "#     img_array = np.array(img)\n",
        "#     print(f\"Shape do array (Numpy): {img_array.shape}\")\n",
        "#     print(f\"Valor Mínimo (Numpy): {img_array.min()}\")\n",
        "#     print(f\"Valor Máximo (Numpy): {img_array.max()}\")\n",
        "\n",
        "# except Exception as e:\n",
        "#     print(f\"\\n--- ERRO AO CARREGAR MANUALMENTE ---\")\n",
        "#     print(f\"Falhou ao processar o ficheiro: {e}\")\n",
        "#     print(\"Isto confirma que os ficheiros de imagem estão vazios ou corrompidos.\")\n"
      ]
    },
    {
      "cell_type": "code",
      "execution_count": 3,
      "metadata": {
        "execution": {
          "iopub.execute_input": "2025-10-28T00:02:50.511427Z",
          "iopub.status.busy": "2025-10-28T00:02:50.511082Z",
          "iopub.status.idle": "2025-10-28T00:03:16.187317Z",
          "shell.execute_reply": "2025-10-28T00:03:16.186720Z",
          "shell.execute_reply.started": "2025-10-28T00:02:50.511407Z"
        },
        "id": "l5Z9mZALVxY9",
        "trusted": true
      },
      "outputs": [],
      "source": [
        "#importações de bibliotecas\n",
        "from torchsummary import summary\n",
        "import matplotlib.pyplot as plt\n",
        "import tensorflow as tf\n",
        "from tensorflow.keras import layers, models\n",
        "from tensorflow.keras.models import Sequential\n",
        "from tensorflow.keras.layers import Dense, Activation, Flatten, Input, Dropout\n",
        "from tensorflow.keras.optimizers import Adam\n",
        "from tensorflow.keras.preprocessing.image import ImageDataGenerator\n",
        "from tensorflow.keras.callbacks import EarlyStopping, ReduceLROnPlateau, ModelCheckpoint\n",
        "import time\n",
        "import gc\n",
        "from tensorflow.keras.models import Model"
      ]
    },
    {
      "cell_type": "code",
      "execution_count": 4,
      "metadata": {
        "colab": {
          "base_uri": "https://localhost:8080/"
        },
        "execution": {
          "iopub.execute_input": "2025-10-28T00:03:16.188461Z",
          "iopub.status.busy": "2025-10-28T00:03:16.188031Z",
          "iopub.status.idle": "2025-10-28T00:03:16.193044Z",
          "shell.execute_reply": "2025-10-28T00:03:16.192236Z",
          "shell.execute_reply.started": "2025-10-28T00:03:16.188435Z"
        },
        "id": "Tqaf8TeIeFkz",
        "outputId": "35522db5-393c-4cef-b1e4-baf25cb26368",
        "trusted": true
      },
      "outputs": [
        {
          "output_type": "stream",
          "name": "stdout",
          "text": [
            "A converter imagens de '/content/dataset' para '/content/dataset_rbmk'...\n",
            "Total de ficheiros .jpg encontrados: 37781\n"
          ]
        },
        {
          "output_type": "stream",
          "name": "stderr",
          "text": [
            "100%|██████████| 37781/37781 [00:55<00:00, 683.13it/s]"
          ]
        },
        {
          "output_type": "stream",
          "name": "stdout",
          "text": [
            "--- Conversão Concluída! ---\n",
            "Novos dados RGB prontos em: /content/dataset_rbmk\n"
          ]
        },
        {
          "output_type": "stream",
          "name": "stderr",
          "text": [
            "\n"
          ]
        }
      ],
      "source": [
        "import os\n",
        "import shutil\n",
        "from PIL import Image\n",
        "import glob\n",
        "from tqdm import tqdm # Para ter uma barra de progresso\n",
        "\n",
        "# --- Configuração ---\n",
        "# Caminho original com as imagens CMYK\n",
        "source_dir = '/content/dataset'\n",
        "\n",
        "# Nova pasta onde vamos guardar as cópias RGB\n",
        "# (IMPORTANTE: Tem de ser numa pasta com permissão de escrita, como /kaggle/working/)\n",
        "dest_dir = '/content/dataset_rbmk'\n",
        "# --- Fim da Configuração ---\n",
        "\n",
        "# Criar as pastas de destino\n",
        "dest_clear_path = os.path.join(dest_dir, 'clear')\n",
        "dest_cloudy_path = os.path.join(dest_dir, 'cloudy')\n",
        "\n",
        "os.makedirs(dest_clear_path, exist_ok=True)\n",
        "os.makedirs(dest_cloudy_path, exist_ok=True)\n",
        "\n",
        "print(f\"A converter imagens de '{source_dir}' para '{dest_dir}'...\")\n",
        "\n",
        "# Encontra TODAS as imagens .jpg dentro das subpastas (clear, cloudy)\n",
        "#\n",
        "source_files = glob.glob(os.path.join(source_dir, '*/*.jpg'))\n",
        "print(f\"Total de ficheiros .jpg encontrados: {len(source_files)}\")\n",
        "\n",
        "# Itera por todos os ficheiros com uma barra de progresso\n",
        "for source_path in tqdm(source_files):\n",
        "    try:\n",
        "        # Abre a imagem com PIL (que consegue ler CMYK)\n",
        "        img = Image.open(source_path)\n",
        "\n",
        "        # Converte para RGB (o passo crucial)\n",
        "        # Se já for RGB, não faz mal\n",
        "        img_rgb = img.convert('RGB')\n",
        "\n",
        "        # Monta o caminho de destino\n",
        "        # Ex: .../input/.../clear/img1.jpg -> .../working/.../clear/img1.jpg\n",
        "        relative_path = os.path.relpath(source_path, source_dir)\n",
        "        dest_path = os.path.join(dest_dir, relative_path)\n",
        "\n",
        "        # Guarda a nova imagem RGB\n",
        "        img_rgb.save(dest_path)\n",
        "\n",
        "    except Exception as e:\n",
        "        print(f\"\\nErro ao converter {source_path}: {e}\")\n",
        "\n",
        "print(\"--- Conversão Concluída! ---\")\n",
        "print(f\"Novos dados RGB prontos em: {dest_dir}\")"
      ]
    },
    {
      "cell_type": "code",
      "execution_count": 5,
      "metadata": {
        "execution": {
          "iopub.execute_input": "2025-10-28T00:03:16.194980Z",
          "iopub.status.busy": "2025-10-28T00:03:16.194765Z",
          "iopub.status.idle": "2025-10-28T00:03:16.237718Z",
          "shell.execute_reply": "2025-10-28T00:03:16.237085Z",
          "shell.execute_reply.started": "2025-10-28T00:03:16.194963Z"
        },
        "id": "FMj3nqYmVz92",
        "trusted": true
      },
      "outputs": [],
      "source": [
        "def VGG16():\n",
        "   model = models.Sequential([\n",
        "\n",
        "        layers.Rescaling(1./255, input_shape=(224,224,3)),\n",
        "        # Arquitetura enxuta\n",
        "        layers.Conv2D(32, (3,3), padding='same', activation='relu'),\n",
        "        layers.Conv2D(32, (3,3), padding='same', activation='relu'),\n",
        "        layers.MaxPooling2D((2,2)),\n",
        "        layers.Dropout(0.25),\n",
        "\n",
        "        layers.Conv2D(64, (3,3), padding='same', activation='relu'),\n",
        "        layers.Conv2D(64, (3,3), padding='same', activation='relu'),\n",
        "        layers.MaxPooling2D((2,2)),\n",
        "        layers.Dropout(0.25),\n",
        "\n",
        "        layers.GlobalAveragePooling2D(),\n",
        "        layers.Dense(64, activation='relu'),\n",
        "        layers.Dropout(0.5),\n",
        "        layers.Dense(1, activation='sigmoid')\n",
        "   ])\n",
        "   model.compile(optimizer=Adam(learning_rate=1e-3), loss='binary_crossentropy', metrics=['accuracy'])\n",
        "#    Loss = -[y * log(p) + (1 - y) * log(1 - p)]\n",
        "   return model\n"
      ]
    },
    {
      "cell_type": "code",
      "execution_count": 6,
      "metadata": {
        "execution": {
          "iopub.execute_input": "2025-10-28T00:03:16.238794Z",
          "iopub.status.busy": "2025-10-28T00:03:16.238568Z",
          "iopub.status.idle": "2025-10-28T00:03:16.257929Z",
          "shell.execute_reply": "2025-10-28T00:03:16.257198Z",
          "shell.execute_reply.started": "2025-10-28T00:03:16.238776Z"
        },
        "id": "K0Zm-9FTV1ZX",
        "trusted": true
      },
      "outputs": [],
      "source": [
        "def matplot_acc_loss(train_process):\n",
        "    # 'train_process' é o objeto 'history' retornado pelo model.fit\n",
        "    # Os dados estão no dicionário 'train_process.history'\n",
        "    history_dict = train_process.history\n",
        "\n",
        "    # Crie o eixo X (número de épocas)\n",
        "    epochs_range = range(len(history_dict['loss']))\n",
        "\n",
        "    plt.figure(figsize=(12,4))\n",
        "\n",
        "    # --- Gráfico de Loss ---\n",
        "    plt.subplot(1,2,1)\n",
        "    # Acesse os dados do dicionário\n",
        "    plt.plot(epochs_range, history_dict['loss'], 'ro-', label='Train Loss', linewidth=2)\n",
        "    plt.plot(epochs_range, history_dict['val_loss'], 'bs-', label='Val Loss', linewidth=2)\n",
        "    plt.xlabel('Epoch', fontsize=12)\n",
        "    plt.ylabel('Loss', fontsize=12)\n",
        "    plt.legend()\n",
        "    plt.grid(True, alpha=0.3)\n",
        "\n",
        "    # --- Gráfico de Accuracy ---\n",
        "    plt.subplot(1,2,2)\n",
        "    # Use 'accuracy' e 'val_accuracy'\n",
        "    plt.plot(epochs_range, history_dict['accuracy'], 'ro-', label='Train Acc', linewidth=2)\n",
        "    plt.plot(epochs_range, history_dict['val_accuracy'], 'bs-', label='Val Acc', linewidth=2)\n",
        "    plt.xlabel('Epoch', fontsize=12)\n",
        "    plt.ylabel('Accuracy', fontsize=12)\n",
        "    plt.legend()\n",
        "    plt.grid(True, alpha=0.3)\n",
        "\n",
        "    plt.show()"
      ]
    },
    {
      "cell_type": "code",
      "execution_count": 7,
      "metadata": {
        "execution": {
          "iopub.execute_input": "2025-10-28T00:03:16.258915Z",
          "iopub.status.busy": "2025-10-28T00:03:16.258655Z",
          "iopub.status.idle": "2025-10-28T00:03:16.278406Z",
          "shell.execute_reply": "2025-10-28T00:03:16.277731Z",
          "shell.execute_reply.started": "2025-10-28T00:03:16.258890Z"
        },
        "id": "seThzX9teFk0",
        "trusted": true
      },
      "outputs": [],
      "source": [
        "# Função auxiliar para inspecionar os lotes de dados\n",
        "def debug_data(dataset, message):\n",
        "    print(f\"\\n--- DEBUG: {message} ---\")\n",
        "    # Pega um lote (batch) do dataset\n",
        "    for images, labels in dataset.take(1):\n",
        "        print(f\"Formato (Shape) do lote de imagens: {images.shape}\")\n",
        "        print(f\"Tipo de dados (dtype) das imagens: {images.dtype}\")\n",
        "        print(f\"Valor MÍNIMO dos pixels: {tf.reduce_min(images).numpy()}\")\n",
        "        print(f\"Valor MÁXIMO dos pixels: {tf.reduce_max(images).numpy()}\")\n",
        "        print(f\"-----------------------------------\\n\")"
      ]
    },
    {
      "cell_type": "code",
      "execution_count": 8,
      "metadata": {
        "execution": {
          "iopub.execute_input": "2025-10-28T00:03:16.279443Z",
          "iopub.status.busy": "2025-10-28T00:03:16.279190Z",
          "iopub.status.idle": "2025-10-28T00:03:16.298363Z",
          "shell.execute_reply": "2025-10-28T00:03:16.297856Z",
          "shell.execute_reply.started": "2025-10-28T00:03:16.279416Z"
        },
        "id": "aTrc9iySV2sO",
        "trusted": true
      },
      "outputs": [],
      "source": [
        "def train_val_data_process_tfdata(datadir='/content/dataset_rbmk', img_size=(224,224), batch_size=32, val_split=0.2, seed=1):\n",
        "    print('Passando por train_val_data (COM OVERSAMPLING, PREPROCESSING NO MODELO)')\n",
        "\n",
        "    # 1. Carrega os datasets\n",
        "    train_ds = tf.keras.preprocessing.image_dataset_from_directory(\n",
        "        datadir, validation_split=val_split, subset=\"training\", seed=seed,\n",
        "        image_size=img_size, batch_size=None\n",
        "    )\n",
        "    val_ds = tf.keras.preprocessing.image_dataset_from_directory(\n",
        "        datadir, validation_split=val_split, subset=\"validation\", seed=seed,\n",
        "        image_size=img_size, batch_size=None\n",
        "    )\n",
        "    print(f\"As classes são: {train_ds.class_names}\")\n",
        "\n",
        "    # --- DEBUG 1 ---\n",
        "    debug_data(train_ds, \"Após carregar (ESPERADO: 0 a 255)\")\n",
        "\n",
        "\n",
        "\n",
        "    # --- Data Augmentation (Definição) ---\n",
        "    rotation_factor = 0.055\n",
        "    data_augmentation = tf.keras.Sequential([\n",
        "      layers.RandomFlip(\"horizontal\"),\n",
        "      layers.RandomRotation(rotation_factor, fill_mode='nearest'),\n",
        "      layers.RandomZoom(0.1, fill_mode='nearest'),\n",
        "      layers.RandomTranslation(height_factor=0.1, width_factor=0.1, fill_mode='nearest'),\n",
        "    ], name=\"data_augmentation\")\n",
        "\n",
        "\n",
        "    # aplicação de data_augmentation\n",
        "    train_ds = train_ds.map(lambda x, y: (data_augmentation(x, training=True), y))\n",
        "    # --- DEBUG 2 ---\n",
        "    debug_data(train_ds, \"Após passar data_augmentation\")\n",
        "\n",
        "    # Batch -> agrupa e prefetch -> serviço paralelo entre CPU e GPU (ainda dados crus)\n",
        "    train_ds = train_ds.batch(batch_size).prefetch(tf.data.AUTOTUNE)\n",
        "    # --- DEBUG 3 ---\n",
        "    debug_data(train_ds, \"Após .batch\")\n",
        "\n",
        "    # --- NOVO CÓDIGO DE DEBUG (ADICIONE ISTO) ---\n",
        "    print(\"\\n--- DEBUG: Log de Conversão do Tensor (Primeiro Lote) ---\")\n",
        "    try:\n",
        "        # Pega um lote (batch) do dataset\n",
        "        for images_batch, labels_batch in train_ds.take(1):\n",
        "\n",
        "            # Pega a primeira imagem do lote\n",
        "            primeira_imagem_tensor = images_batch[0]\n",
        "\n",
        "            print(f\"Shape da primeira imagem do lote: {primeira_imagem_tensor.shape}\")\n",
        "\n",
        "            # Imprime um pequeno canto (slice) do tensor da imagem\n",
        "            # Vamos ver os 5 primeiros pixels (linhas 0-4, colunas 0-4) do canal Vermelho (0)\n",
        "            print(\"Valores de um canto da primeira imagem (Esperado: 0 a 255):\")\n",
        "            print(primeira_imagem_tensor[0:5, 0:5, 0])\n",
        "\n",
        "            # Se o max for 0.0, isso vai imprimir uma matriz de zeros\n",
        "\n",
        "    except Exception as e:\n",
        "        print(f\"Erro ao tentar inspecionar o tensor do lote: {e}\")\n",
        "    print(\"------------------------------------------------------\\n\")\n",
        "    # --- FIM DO NOVO CÓDIGO DE DEBUG ---\n",
        "\n",
        "    val_ds = val_ds.batch(batch_size).prefetch(tf.data.AUTOTUNE)\n",
        "    return train_ds, val_ds"
      ]
    },
    {
      "cell_type": "code",
      "execution_count": 9,
      "metadata": {
        "execution": {
          "iopub.execute_input": "2025-10-28T00:03:16.299214Z",
          "iopub.status.busy": "2025-10-28T00:03:16.299009Z",
          "iopub.status.idle": "2025-10-28T00:03:16.324389Z",
          "shell.execute_reply": "2025-10-28T00:03:16.323740Z",
          "shell.execute_reply.started": "2025-10-28T00:03:16.299200Z"
        },
        "id": "Hh2kDCmrV4Dl",
        "trusted": true
      },
      "outputs": [],
      "source": [
        "def train_model_process(datadir='/content/dataset_rbmk', img_size=(224,224), batch_size=32, epochs=20, model=None, save_path='melhor.h5'):\n",
        "\n",
        "    # 25/10\n",
        "    # como clear e cloudy é desbalanceado em quantidade,\n",
        "    # aproximadamente 75% - 25%, o programa começou a chutar,\n",
        "    # resultando 75% de acurácia\n",
        "    # resolvi adicionar os pesos:\n",
        "    # total = 37781\n",
        "    # count_class_0 = 37781 * 0,753 = 28849\n",
        "    # count_class_1 = 37781 * 0,247 = 9332\n",
        "    # weight_for_0 = (1 / count_class_0) * (total / 2) = 0,66\n",
        "    # weight_for_1 = (1 / count_class_1) * (total / 2) = 2,02\n",
        "    # fazendo isso, um erro na classe 1 (cloudy) terá um impacto\n",
        "    # mais ou menos 3 vezes maior no loss do que um erro na classe 0 (clear)\n",
        "    # isso força o modelo a parar de chutar e realmente aprender a identificar\n",
        "    # as caracteristicas.\n",
        "    # 26/10 : não funciona, continuou chutando\n",
        "    # atualização, funciona, o que não funcionou foi usar imagem que não era RGB, saiu tudo (0, 0, 0)\n",
        "    class_weights = {0: 0.66, 1: 2.02}\n",
        "\n",
        "    print(\"--- INICIANDO train_model_process ---\")\n",
        "    print(\"Chamando 'train_val_data_process_tfdata'...\")\n",
        "\n",
        "    # obtém datasets (já normalizados por train_val_data_process_tfdata)\n",
        "    train_ds, val_ds = train_val_data_process_tfdata(datadir=datadir, img_size=img_size, batch_size=batch_size)\n",
        "\n",
        "    print(\"...Datasets recebidos.\")\n",
        "\n",
        "    # cria o modelo uma vez (se não foi passado)\n",
        "    if model is None:\n",
        "        model = VGG16()\n",
        "        model.summary()\n",
        "\n",
        "    # callbacks Keras\n",
        "    callbacks = [\n",
        "        ModelCheckpoint(save_path, monitor='val_accuracy', save_best_only=True, mode='max'),\n",
        "        ReduceLROnPlateau(monitor='val_loss', factor=0.25, patience=4, min_lr=1e-6),\n",
        "        EarlyStopping(monitor='val_loss', patience=8, restore_best_weights=True)\n",
        "    ]\n",
        "\n",
        "\n",
        "\n",
        "\n",
        "    # Treina com os datasets tf.data (não use ImageDataGenerator com tf.data)\n",
        "    history = model.fit(\n",
        "        train_ds,\n",
        "        validation_data=val_ds,\n",
        "        epochs=epochs,\n",
        "        callbacks=callbacks,\n",
        "        class_weight = class_weights,\n",
        "        verbose=1\n",
        "    )\n",
        "\n",
        "\n",
        "    matplot_acc_loss(history)\n",
        "    # após fit: tenta carregar o melhor modelo salvo e avaliar\n",
        "    print('Passando por essa situação')\n",
        "    try:\n",
        "        best = tf.keras.models.load_model(save_path)\n",
        "        loss, acc = best.evaluate(val_ds, verbose=1)\n",
        "        print(f'Best model loaded from {save_path} -> val_loss: {loss}, val_acc: {acc}')\n",
        "    except Exception as e:\n",
        "        # se não conseguiu carregar (por exemplo, usuário salvou apenas pesos), avalia o objeto atual\n",
        "        print('Could not load saved model; evaluating current model object (may already have best weights).')\n",
        "        loss, acc = model.evaluate(val_ds, verbose=1)\n",
        "        print(f'val_loss: {loss}, val_acc: {acc}')\n",
        "\n",
        "    # retorna o objeto de modelo e o histórico para uso posterior\n",
        "\n",
        "    return model, history\n"
      ]
    },
    {
      "cell_type": "code",
      "execution_count": 10,
      "metadata": {
        "colab": {
          "base_uri": "https://localhost:8080/",
          "height": 1000
        },
        "execution": {
          "iopub.execute_input": "2025-10-28T00:03:16.325346Z",
          "iopub.status.busy": "2025-10-28T00:03:16.325086Z",
          "iopub.status.idle": "2025-10-28T05:45:42.694221Z",
          "shell.execute_reply": "2025-10-28T05:45:42.693447Z",
          "shell.execute_reply.started": "2025-10-28T00:03:16.325326Z"
        },
        "id": "HxUP3tfWV5T5",
        "outputId": "6abed42c-1be7-451a-ba13-c1ecc4e7f203",
        "trusted": true
      },
      "outputs": [
        {
          "output_type": "stream",
          "name": "stdout",
          "text": [
            "--- INICIANDO train_model_process ---\n",
            "Chamando 'train_val_data_process_tfdata'...\n",
            "Passando por train_val_data (COM OVERSAMPLING, PREPROCESSING NO MODELO)\n",
            "Found 37781 files belonging to 2 classes.\n",
            "Using 30225 files for training.\n",
            "Found 37781 files belonging to 2 classes.\n",
            "Using 7556 files for validation.\n",
            "As classes são: ['clear', 'cloudy']\n",
            "\n",
            "--- DEBUG: Após carregar (ESPERADO: 0 a 255) ---\n",
            "Formato (Shape) do lote de imagens: (224, 224, 3)\n",
            "Tipo de dados (dtype) das imagens: <dtype: 'float32'>\n",
            "Valor MÍNIMO dos pixels: 129.00509643554688\n",
            "Valor MÁXIMO dos pixels: 255.0\n",
            "-----------------------------------\n",
            "\n",
            "\n",
            "--- DEBUG: Após passar data_augmentation ---\n",
            "Formato (Shape) do lote de imagens: (224, 224, 3)\n",
            "Tipo de dados (dtype) das imagens: <dtype: 'float32'>\n",
            "Valor MÍNIMO dos pixels: 38.527992248535156\n",
            "Valor MÁXIMO dos pixels: 87.60832977294922\n",
            "-----------------------------------\n",
            "\n",
            "\n",
            "--- DEBUG: Após .batch ---\n",
            "Formato (Shape) do lote de imagens: (32, 224, 224, 3)\n",
            "Tipo de dados (dtype) das imagens: <dtype: 'float32'>\n",
            "Valor MÍNIMO dos pixels: 4.503276348114014\n",
            "Valor MÁXIMO dos pixels: 240.4261474609375\n",
            "-----------------------------------\n",
            "\n",
            "\n",
            "--- DEBUG: Log de Conversão do Tensor (Primeiro Lote) ---\n",
            "Shape da primeira imagem do lote: (224, 224, 3)\n",
            "Valores de um canto da primeira imagem (Esperado: 0 a 255):\n",
            "tf.Tensor(\n",
            "[[50.416416 50.05328  49.693665 49.344276 48.997704]\n",
            " [50.416416 50.05328  49.693665 49.344276 48.997704]\n",
            " [50.416416 50.05328  49.693665 49.344276 48.997704]\n",
            " [50.416416 50.05328  49.693665 49.344276 48.997704]\n",
            " [50.416416 50.05328  49.693665 49.344276 48.997704]], shape=(5, 5), dtype=float32)\n",
            "------------------------------------------------------\n",
            "\n",
            "...Datasets recebidos.\n"
          ]
        },
        {
          "output_type": "stream",
          "name": "stderr",
          "text": [
            "/usr/local/lib/python3.12/dist-packages/keras/src/layers/preprocessing/tf_data_layer.py:19: UserWarning: Do not pass an `input_shape`/`input_dim` argument to a layer. When using Sequential models, prefer using an `Input(shape)` object as the first layer in the model instead.\n",
            "  super().__init__(**kwargs)\n"
          ]
        },
        {
          "output_type": "display_data",
          "data": {
            "text/plain": [
              "\u001b[1mModel: \"sequential\"\u001b[0m\n"
            ],
            "text/html": [
              "<pre style=\"white-space:pre;overflow-x:auto;line-height:normal;font-family:Menlo,'DejaVu Sans Mono',consolas,'Courier New',monospace\"><span style=\"font-weight: bold\">Model: \"sequential\"</span>\n",
              "</pre>\n"
            ]
          },
          "metadata": {}
        },
        {
          "output_type": "display_data",
          "data": {
            "text/plain": [
              "┏━━━━━━━━━━━━━━━━━━━━━━━━━━━━━━━━━┳━━━━━━━━━━━━━━━━━━━━━━━━┳━━━━━━━━━━━━━━━┓\n",
              "┃\u001b[1m \u001b[0m\u001b[1mLayer (type)                   \u001b[0m\u001b[1m \u001b[0m┃\u001b[1m \u001b[0m\u001b[1mOutput Shape          \u001b[0m\u001b[1m \u001b[0m┃\u001b[1m \u001b[0m\u001b[1m      Param #\u001b[0m\u001b[1m \u001b[0m┃\n",
              "┡━━━━━━━━━━━━━━━━━━━━━━━━━━━━━━━━━╇━━━━━━━━━━━━━━━━━━━━━━━━╇━━━━━━━━━━━━━━━┩\n",
              "│ rescaling (\u001b[38;5;33mRescaling\u001b[0m)           │ (\u001b[38;5;45mNone\u001b[0m, \u001b[38;5;34m224\u001b[0m, \u001b[38;5;34m224\u001b[0m, \u001b[38;5;34m3\u001b[0m)    │             \u001b[38;5;34m0\u001b[0m │\n",
              "├─────────────────────────────────┼────────────────────────┼───────────────┤\n",
              "│ conv2d (\u001b[38;5;33mConv2D\u001b[0m)                 │ (\u001b[38;5;45mNone\u001b[0m, \u001b[38;5;34m224\u001b[0m, \u001b[38;5;34m224\u001b[0m, \u001b[38;5;34m32\u001b[0m)   │           \u001b[38;5;34m896\u001b[0m │\n",
              "├─────────────────────────────────┼────────────────────────┼───────────────┤\n",
              "│ conv2d_1 (\u001b[38;5;33mConv2D\u001b[0m)               │ (\u001b[38;5;45mNone\u001b[0m, \u001b[38;5;34m224\u001b[0m, \u001b[38;5;34m224\u001b[0m, \u001b[38;5;34m32\u001b[0m)   │         \u001b[38;5;34m9,248\u001b[0m │\n",
              "├─────────────────────────────────┼────────────────────────┼───────────────┤\n",
              "│ max_pooling2d (\u001b[38;5;33mMaxPooling2D\u001b[0m)    │ (\u001b[38;5;45mNone\u001b[0m, \u001b[38;5;34m112\u001b[0m, \u001b[38;5;34m112\u001b[0m, \u001b[38;5;34m32\u001b[0m)   │             \u001b[38;5;34m0\u001b[0m │\n",
              "├─────────────────────────────────┼────────────────────────┼───────────────┤\n",
              "│ dropout (\u001b[38;5;33mDropout\u001b[0m)               │ (\u001b[38;5;45mNone\u001b[0m, \u001b[38;5;34m112\u001b[0m, \u001b[38;5;34m112\u001b[0m, \u001b[38;5;34m32\u001b[0m)   │             \u001b[38;5;34m0\u001b[0m │\n",
              "├─────────────────────────────────┼────────────────────────┼───────────────┤\n",
              "│ conv2d_2 (\u001b[38;5;33mConv2D\u001b[0m)               │ (\u001b[38;5;45mNone\u001b[0m, \u001b[38;5;34m112\u001b[0m, \u001b[38;5;34m112\u001b[0m, \u001b[38;5;34m64\u001b[0m)   │        \u001b[38;5;34m18,496\u001b[0m │\n",
              "├─────────────────────────────────┼────────────────────────┼───────────────┤\n",
              "│ conv2d_3 (\u001b[38;5;33mConv2D\u001b[0m)               │ (\u001b[38;5;45mNone\u001b[0m, \u001b[38;5;34m112\u001b[0m, \u001b[38;5;34m112\u001b[0m, \u001b[38;5;34m64\u001b[0m)   │        \u001b[38;5;34m36,928\u001b[0m │\n",
              "├─────────────────────────────────┼────────────────────────┼───────────────┤\n",
              "│ max_pooling2d_1 (\u001b[38;5;33mMaxPooling2D\u001b[0m)  │ (\u001b[38;5;45mNone\u001b[0m, \u001b[38;5;34m56\u001b[0m, \u001b[38;5;34m56\u001b[0m, \u001b[38;5;34m64\u001b[0m)     │             \u001b[38;5;34m0\u001b[0m │\n",
              "├─────────────────────────────────┼────────────────────────┼───────────────┤\n",
              "│ dropout_1 (\u001b[38;5;33mDropout\u001b[0m)             │ (\u001b[38;5;45mNone\u001b[0m, \u001b[38;5;34m56\u001b[0m, \u001b[38;5;34m56\u001b[0m, \u001b[38;5;34m64\u001b[0m)     │             \u001b[38;5;34m0\u001b[0m │\n",
              "├─────────────────────────────────┼────────────────────────┼───────────────┤\n",
              "│ global_average_pooling2d        │ (\u001b[38;5;45mNone\u001b[0m, \u001b[38;5;34m64\u001b[0m)             │             \u001b[38;5;34m0\u001b[0m │\n",
              "│ (\u001b[38;5;33mGlobalAveragePooling2D\u001b[0m)        │                        │               │\n",
              "├─────────────────────────────────┼────────────────────────┼───────────────┤\n",
              "│ dense (\u001b[38;5;33mDense\u001b[0m)                   │ (\u001b[38;5;45mNone\u001b[0m, \u001b[38;5;34m64\u001b[0m)             │         \u001b[38;5;34m4,160\u001b[0m │\n",
              "├─────────────────────────────────┼────────────────────────┼───────────────┤\n",
              "│ dropout_2 (\u001b[38;5;33mDropout\u001b[0m)             │ (\u001b[38;5;45mNone\u001b[0m, \u001b[38;5;34m64\u001b[0m)             │             \u001b[38;5;34m0\u001b[0m │\n",
              "├─────────────────────────────────┼────────────────────────┼───────────────┤\n",
              "│ dense_1 (\u001b[38;5;33mDense\u001b[0m)                 │ (\u001b[38;5;45mNone\u001b[0m, \u001b[38;5;34m1\u001b[0m)              │            \u001b[38;5;34m65\u001b[0m │\n",
              "└─────────────────────────────────┴────────────────────────┴───────────────┘\n"
            ],
            "text/html": [
              "<pre style=\"white-space:pre;overflow-x:auto;line-height:normal;font-family:Menlo,'DejaVu Sans Mono',consolas,'Courier New',monospace\">┏━━━━━━━━━━━━━━━━━━━━━━━━━━━━━━━━━┳━━━━━━━━━━━━━━━━━━━━━━━━┳━━━━━━━━━━━━━━━┓\n",
              "┃<span style=\"font-weight: bold\"> Layer (type)                    </span>┃<span style=\"font-weight: bold\"> Output Shape           </span>┃<span style=\"font-weight: bold\">       Param # </span>┃\n",
              "┡━━━━━━━━━━━━━━━━━━━━━━━━━━━━━━━━━╇━━━━━━━━━━━━━━━━━━━━━━━━╇━━━━━━━━━━━━━━━┩\n",
              "│ rescaling (<span style=\"color: #0087ff; text-decoration-color: #0087ff\">Rescaling</span>)           │ (<span style=\"color: #00d7ff; text-decoration-color: #00d7ff\">None</span>, <span style=\"color: #00af00; text-decoration-color: #00af00\">224</span>, <span style=\"color: #00af00; text-decoration-color: #00af00\">224</span>, <span style=\"color: #00af00; text-decoration-color: #00af00\">3</span>)    │             <span style=\"color: #00af00; text-decoration-color: #00af00\">0</span> │\n",
              "├─────────────────────────────────┼────────────────────────┼───────────────┤\n",
              "│ conv2d (<span style=\"color: #0087ff; text-decoration-color: #0087ff\">Conv2D</span>)                 │ (<span style=\"color: #00d7ff; text-decoration-color: #00d7ff\">None</span>, <span style=\"color: #00af00; text-decoration-color: #00af00\">224</span>, <span style=\"color: #00af00; text-decoration-color: #00af00\">224</span>, <span style=\"color: #00af00; text-decoration-color: #00af00\">32</span>)   │           <span style=\"color: #00af00; text-decoration-color: #00af00\">896</span> │\n",
              "├─────────────────────────────────┼────────────────────────┼───────────────┤\n",
              "│ conv2d_1 (<span style=\"color: #0087ff; text-decoration-color: #0087ff\">Conv2D</span>)               │ (<span style=\"color: #00d7ff; text-decoration-color: #00d7ff\">None</span>, <span style=\"color: #00af00; text-decoration-color: #00af00\">224</span>, <span style=\"color: #00af00; text-decoration-color: #00af00\">224</span>, <span style=\"color: #00af00; text-decoration-color: #00af00\">32</span>)   │         <span style=\"color: #00af00; text-decoration-color: #00af00\">9,248</span> │\n",
              "├─────────────────────────────────┼────────────────────────┼───────────────┤\n",
              "│ max_pooling2d (<span style=\"color: #0087ff; text-decoration-color: #0087ff\">MaxPooling2D</span>)    │ (<span style=\"color: #00d7ff; text-decoration-color: #00d7ff\">None</span>, <span style=\"color: #00af00; text-decoration-color: #00af00\">112</span>, <span style=\"color: #00af00; text-decoration-color: #00af00\">112</span>, <span style=\"color: #00af00; text-decoration-color: #00af00\">32</span>)   │             <span style=\"color: #00af00; text-decoration-color: #00af00\">0</span> │\n",
              "├─────────────────────────────────┼────────────────────────┼───────────────┤\n",
              "│ dropout (<span style=\"color: #0087ff; text-decoration-color: #0087ff\">Dropout</span>)               │ (<span style=\"color: #00d7ff; text-decoration-color: #00d7ff\">None</span>, <span style=\"color: #00af00; text-decoration-color: #00af00\">112</span>, <span style=\"color: #00af00; text-decoration-color: #00af00\">112</span>, <span style=\"color: #00af00; text-decoration-color: #00af00\">32</span>)   │             <span style=\"color: #00af00; text-decoration-color: #00af00\">0</span> │\n",
              "├─────────────────────────────────┼────────────────────────┼───────────────┤\n",
              "│ conv2d_2 (<span style=\"color: #0087ff; text-decoration-color: #0087ff\">Conv2D</span>)               │ (<span style=\"color: #00d7ff; text-decoration-color: #00d7ff\">None</span>, <span style=\"color: #00af00; text-decoration-color: #00af00\">112</span>, <span style=\"color: #00af00; text-decoration-color: #00af00\">112</span>, <span style=\"color: #00af00; text-decoration-color: #00af00\">64</span>)   │        <span style=\"color: #00af00; text-decoration-color: #00af00\">18,496</span> │\n",
              "├─────────────────────────────────┼────────────────────────┼───────────────┤\n",
              "│ conv2d_3 (<span style=\"color: #0087ff; text-decoration-color: #0087ff\">Conv2D</span>)               │ (<span style=\"color: #00d7ff; text-decoration-color: #00d7ff\">None</span>, <span style=\"color: #00af00; text-decoration-color: #00af00\">112</span>, <span style=\"color: #00af00; text-decoration-color: #00af00\">112</span>, <span style=\"color: #00af00; text-decoration-color: #00af00\">64</span>)   │        <span style=\"color: #00af00; text-decoration-color: #00af00\">36,928</span> │\n",
              "├─────────────────────────────────┼────────────────────────┼───────────────┤\n",
              "│ max_pooling2d_1 (<span style=\"color: #0087ff; text-decoration-color: #0087ff\">MaxPooling2D</span>)  │ (<span style=\"color: #00d7ff; text-decoration-color: #00d7ff\">None</span>, <span style=\"color: #00af00; text-decoration-color: #00af00\">56</span>, <span style=\"color: #00af00; text-decoration-color: #00af00\">56</span>, <span style=\"color: #00af00; text-decoration-color: #00af00\">64</span>)     │             <span style=\"color: #00af00; text-decoration-color: #00af00\">0</span> │\n",
              "├─────────────────────────────────┼────────────────────────┼───────────────┤\n",
              "│ dropout_1 (<span style=\"color: #0087ff; text-decoration-color: #0087ff\">Dropout</span>)             │ (<span style=\"color: #00d7ff; text-decoration-color: #00d7ff\">None</span>, <span style=\"color: #00af00; text-decoration-color: #00af00\">56</span>, <span style=\"color: #00af00; text-decoration-color: #00af00\">56</span>, <span style=\"color: #00af00; text-decoration-color: #00af00\">64</span>)     │             <span style=\"color: #00af00; text-decoration-color: #00af00\">0</span> │\n",
              "├─────────────────────────────────┼────────────────────────┼───────────────┤\n",
              "│ global_average_pooling2d        │ (<span style=\"color: #00d7ff; text-decoration-color: #00d7ff\">None</span>, <span style=\"color: #00af00; text-decoration-color: #00af00\">64</span>)             │             <span style=\"color: #00af00; text-decoration-color: #00af00\">0</span> │\n",
              "│ (<span style=\"color: #0087ff; text-decoration-color: #0087ff\">GlobalAveragePooling2D</span>)        │                        │               │\n",
              "├─────────────────────────────────┼────────────────────────┼───────────────┤\n",
              "│ dense (<span style=\"color: #0087ff; text-decoration-color: #0087ff\">Dense</span>)                   │ (<span style=\"color: #00d7ff; text-decoration-color: #00d7ff\">None</span>, <span style=\"color: #00af00; text-decoration-color: #00af00\">64</span>)             │         <span style=\"color: #00af00; text-decoration-color: #00af00\">4,160</span> │\n",
              "├─────────────────────────────────┼────────────────────────┼───────────────┤\n",
              "│ dropout_2 (<span style=\"color: #0087ff; text-decoration-color: #0087ff\">Dropout</span>)             │ (<span style=\"color: #00d7ff; text-decoration-color: #00d7ff\">None</span>, <span style=\"color: #00af00; text-decoration-color: #00af00\">64</span>)             │             <span style=\"color: #00af00; text-decoration-color: #00af00\">0</span> │\n",
              "├─────────────────────────────────┼────────────────────────┼───────────────┤\n",
              "│ dense_1 (<span style=\"color: #0087ff; text-decoration-color: #0087ff\">Dense</span>)                 │ (<span style=\"color: #00d7ff; text-decoration-color: #00d7ff\">None</span>, <span style=\"color: #00af00; text-decoration-color: #00af00\">1</span>)              │            <span style=\"color: #00af00; text-decoration-color: #00af00\">65</span> │\n",
              "└─────────────────────────────────┴────────────────────────┴───────────────┘\n",
              "</pre>\n"
            ]
          },
          "metadata": {}
        },
        {
          "output_type": "display_data",
          "data": {
            "text/plain": [
              "\u001b[1m Total params: \u001b[0m\u001b[38;5;34m69,793\u001b[0m (272.63 KB)\n"
            ],
            "text/html": [
              "<pre style=\"white-space:pre;overflow-x:auto;line-height:normal;font-family:Menlo,'DejaVu Sans Mono',consolas,'Courier New',monospace\"><span style=\"font-weight: bold\"> Total params: </span><span style=\"color: #00af00; text-decoration-color: #00af00\">69,793</span> (272.63 KB)\n",
              "</pre>\n"
            ]
          },
          "metadata": {}
        },
        {
          "output_type": "display_data",
          "data": {
            "text/plain": [
              "\u001b[1m Trainable params: \u001b[0m\u001b[38;5;34m69,793\u001b[0m (272.63 KB)\n"
            ],
            "text/html": [
              "<pre style=\"white-space:pre;overflow-x:auto;line-height:normal;font-family:Menlo,'DejaVu Sans Mono',consolas,'Courier New',monospace\"><span style=\"font-weight: bold\"> Trainable params: </span><span style=\"color: #00af00; text-decoration-color: #00af00\">69,793</span> (272.63 KB)\n",
              "</pre>\n"
            ]
          },
          "metadata": {}
        },
        {
          "output_type": "display_data",
          "data": {
            "text/plain": [
              "\u001b[1m Non-trainable params: \u001b[0m\u001b[38;5;34m0\u001b[0m (0.00 B)\n"
            ],
            "text/html": [
              "<pre style=\"white-space:pre;overflow-x:auto;line-height:normal;font-family:Menlo,'DejaVu Sans Mono',consolas,'Courier New',monospace\"><span style=\"font-weight: bold\"> Non-trainable params: </span><span style=\"color: #00af00; text-decoration-color: #00af00\">0</span> (0.00 B)\n",
              "</pre>\n"
            ]
          },
          "metadata": {}
        },
        {
          "output_type": "stream",
          "name": "stdout",
          "text": [
            "Epoch 1/20\n",
            "\u001b[1m945/945\u001b[0m \u001b[32m━━━━━━━━━━━━━━━━━━━━\u001b[0m\u001b[37m\u001b[0m \u001b[1m0s\u001b[0m 528ms/step - accuracy: 0.7212 - loss: 0.5378"
          ]
        },
        {
          "output_type": "stream",
          "name": "stderr",
          "text": [
            "WARNING:absl:You are saving your model as an HDF5 file via `model.save()` or `keras.saving.save_model(model)`. This file format is considered legacy. We recommend using instead the native Keras format, e.g. `model.save('my_model.keras')` or `keras.saving.save_model(model, 'my_model.keras')`. \n"
          ]
        },
        {
          "output_type": "stream",
          "name": "stdout",
          "text": [
            "\b\b\b\b\b\b\b\b\b\b\b\b\b\b\b\b\b\b\b\b\b\b\b\b\b\b\b\b\b\b\b\b\b\b\b\b\b\b\b\b\b\b\b\b\b\b\b\b\b\b\b\b\b\b\b\b\b\b\b\b\b\b\b\b\b\b\b\b\b\b\b\b\b\b\b\b\r\u001b[1m945/945\u001b[0m \u001b[32m━━━━━━━━━━━━━━━━━━━━\u001b[0m\u001b[37m\u001b[0m \u001b[1m527s\u001b[0m 540ms/step - accuracy: 0.7213 - loss: 0.5378 - val_accuracy: 0.8937 - val_loss: 0.3284 - learning_rate: 0.0010\n",
            "Epoch 2/20\n",
            "\u001b[1m945/945\u001b[0m \u001b[32m━━━━━━━━━━━━━━━━━━━━\u001b[0m\u001b[37m\u001b[0m \u001b[1m497s\u001b[0m 526ms/step - accuracy: 0.8249 - loss: 0.4217 - val_accuracy: 0.8209 - val_loss: 0.4228 - learning_rate: 0.0010\n",
            "Epoch 3/20\n",
            "\u001b[1m945/945\u001b[0m \u001b[32m━━━━━━━━━━━━━━━━━━━━\u001b[0m\u001b[37m\u001b[0m \u001b[1m496s\u001b[0m 524ms/step - accuracy: 0.8411 - loss: 0.3835 - val_accuracy: 0.7753 - val_loss: 0.5171 - learning_rate: 0.0010\n",
            "Epoch 4/20\n",
            "\u001b[1m945/945\u001b[0m \u001b[32m━━━━━━━━━━━━━━━━━━━━\u001b[0m\u001b[37m\u001b[0m \u001b[1m495s\u001b[0m 524ms/step - accuracy: 0.8361 - loss: 0.3661 - val_accuracy: 0.8477 - val_loss: 0.3344 - learning_rate: 0.0010\n",
            "Epoch 5/20\n",
            "\u001b[1m945/945\u001b[0m \u001b[32m━━━━━━━━━━━━━━━━━━━━\u001b[0m\u001b[37m\u001b[0m \u001b[1m495s\u001b[0m 524ms/step - accuracy: 0.8338 - loss: 0.3606 - val_accuracy: 0.8696 - val_loss: 0.2938 - learning_rate: 0.0010\n",
            "Epoch 6/20\n",
            "\u001b[1m945/945\u001b[0m \u001b[32m━━━━━━━━━━━━━━━━━━━━\u001b[0m\u001b[37m\u001b[0m \u001b[1m496s\u001b[0m 524ms/step - accuracy: 0.8540 - loss: 0.3485 - val_accuracy: 0.7897 - val_loss: 0.4393 - learning_rate: 0.0010\n",
            "Epoch 7/20\n",
            "\u001b[1m945/945\u001b[0m \u001b[32m━━━━━━━━━━━━━━━━━━━━\u001b[0m\u001b[37m\u001b[0m \u001b[1m495s\u001b[0m 524ms/step - accuracy: 0.8650 - loss: 0.3470 - val_accuracy: 0.8612 - val_loss: 0.3014 - learning_rate: 0.0010\n",
            "Epoch 8/20\n",
            "\u001b[1m945/945\u001b[0m \u001b[32m━━━━━━━━━━━━━━━━━━━━\u001b[0m\u001b[37m\u001b[0m \u001b[1m504s\u001b[0m 526ms/step - accuracy: 0.8647 - loss: 0.3366 - val_accuracy: 0.8833 - val_loss: 0.2786 - learning_rate: 0.0010\n",
            "Epoch 9/20\n",
            "\u001b[1m945/945\u001b[0m \u001b[32m━━━━━━━━━━━━━━━━━━━━\u001b[0m\u001b[37m\u001b[0m \u001b[1m495s\u001b[0m 523ms/step - accuracy: 0.8742 - loss: 0.3162 - val_accuracy: 0.7750 - val_loss: 0.6410 - learning_rate: 0.0010\n",
            "Epoch 10/20\n",
            "\u001b[1m945/945\u001b[0m \u001b[32m━━━━━━━━━━━━━━━━━━━━\u001b[0m\u001b[37m\u001b[0m \u001b[1m498s\u001b[0m 527ms/step - accuracy: 0.8769 - loss: 0.3172 - val_accuracy: 0.8643 - val_loss: 0.2889 - learning_rate: 0.0010\n",
            "Epoch 11/20\n",
            "\u001b[1m945/945\u001b[0m \u001b[32m━━━━━━━━━━━━━━━━━━━━\u001b[0m\u001b[37m\u001b[0m \u001b[1m502s\u001b[0m 530ms/step - accuracy: 0.8744 - loss: 0.3091 - val_accuracy: 0.8927 - val_loss: 0.2594 - learning_rate: 0.0010\n",
            "Epoch 12/20\n",
            "\u001b[1m945/945\u001b[0m \u001b[32m━━━━━━━━━━━━━━━━━━━━\u001b[0m\u001b[37m\u001b[0m \u001b[1m499s\u001b[0m 528ms/step - accuracy: 0.8792 - loss: 0.3021 - val_accuracy: 0.8502 - val_loss: 0.3352 - learning_rate: 0.0010\n",
            "Epoch 13/20\n",
            "\u001b[1m945/945\u001b[0m \u001b[32m━━━━━━━━━━━━━━━━━━━━\u001b[0m\u001b[37m\u001b[0m \u001b[1m498s\u001b[0m 527ms/step - accuracy: 0.8724 - loss: 0.3099 - val_accuracy: 0.8739 - val_loss: 0.3147 - learning_rate: 0.0010\n",
            "Epoch 14/20\n",
            "\u001b[1m945/945\u001b[0m \u001b[32m━━━━━━━━━━━━━━━━━━━━\u001b[0m\u001b[37m\u001b[0m \u001b[1m497s\u001b[0m 526ms/step - accuracy: 0.8756 - loss: 0.3010 - val_accuracy: 0.8670 - val_loss: 0.2794 - learning_rate: 0.0010\n",
            "Epoch 15/20\n",
            "\u001b[1m945/945\u001b[0m \u001b[32m━━━━━━━━━━━━━━━━━━━━\u001b[0m\u001b[37m\u001b[0m \u001b[1m0s\u001b[0m 518ms/step - accuracy: 0.8832 - loss: 0.2993"
          ]
        },
        {
          "output_type": "stream",
          "name": "stderr",
          "text": [
            "WARNING:absl:You are saving your model as an HDF5 file via `model.save()` or `keras.saving.save_model(model)`. This file format is considered legacy. We recommend using instead the native Keras format, e.g. `model.save('my_model.keras')` or `keras.saving.save_model(model, 'my_model.keras')`. \n"
          ]
        },
        {
          "output_type": "stream",
          "name": "stdout",
          "text": [
            "\b\b\b\b\b\b\b\b\b\b\b\b\b\b\b\b\b\b\b\b\b\b\b\b\b\b\b\b\b\b\b\b\b\b\b\b\b\b\b\b\b\b\b\b\b\b\b\b\b\b\b\b\b\b\b\b\b\b\b\b\b\b\b\b\b\b\b\b\b\b\b\b\b\b\b\b\r\u001b[1m945/945\u001b[0m \u001b[32m━━━━━━━━━━━━━━━━━━━━\u001b[0m\u001b[37m\u001b[0m \u001b[1m497s\u001b[0m 525ms/step - accuracy: 0.8832 - loss: 0.2993 - val_accuracy: 0.9153 - val_loss: 0.2039 - learning_rate: 0.0010\n",
            "Epoch 16/20\n",
            "\u001b[1m945/945\u001b[0m \u001b[32m━━━━━━━━━━━━━━━━━━━━\u001b[0m\u001b[37m\u001b[0m \u001b[1m500s\u001b[0m 529ms/step - accuracy: 0.8870 - loss: 0.2968 - val_accuracy: 0.9084 - val_loss: 0.2569 - learning_rate: 0.0010\n",
            "Epoch 17/20\n",
            "\u001b[1m945/945\u001b[0m \u001b[32m━━━━━━━━━━━━━━━━━━━━\u001b[0m\u001b[37m\u001b[0m \u001b[1m0s\u001b[0m 517ms/step - accuracy: 0.8768 - loss: 0.2919"
          ]
        },
        {
          "output_type": "stream",
          "name": "stderr",
          "text": [
            "WARNING:absl:You are saving your model as an HDF5 file via `model.save()` or `keras.saving.save_model(model)`. This file format is considered legacy. We recommend using instead the native Keras format, e.g. `model.save('my_model.keras')` or `keras.saving.save_model(model, 'my_model.keras')`. \n"
          ]
        },
        {
          "output_type": "stream",
          "name": "stdout",
          "text": [
            "\b\b\b\b\b\b\b\b\b\b\b\b\b\b\b\b\b\b\b\b\b\b\b\b\b\b\b\b\b\b\b\b\b\b\b\b\b\b\b\b\b\b\b\b\b\b\b\b\b\b\b\b\b\b\b\b\b\b\b\b\b\b\b\b\b\b\b\b\b\b\b\b\b\b\b\b\r\u001b[1m945/945\u001b[0m \u001b[32m━━━━━━━━━━━━━━━━━━━━\u001b[0m\u001b[37m\u001b[0m \u001b[1m497s\u001b[0m 526ms/step - accuracy: 0.8768 - loss: 0.2919 - val_accuracy: 0.9326 - val_loss: 0.1922 - learning_rate: 0.0010\n",
            "Epoch 18/20\n",
            "\u001b[1m945/945\u001b[0m \u001b[32m━━━━━━━━━━━━━━━━━━━━\u001b[0m\u001b[37m\u001b[0m \u001b[1m497s\u001b[0m 526ms/step - accuracy: 0.8927 - loss: 0.2829 - val_accuracy: 0.8788 - val_loss: 0.2767 - learning_rate: 0.0010\n",
            "Epoch 19/20\n",
            "\u001b[1m945/945\u001b[0m \u001b[32m━━━━━━━━━━━━━━━━━━━━\u001b[0m\u001b[37m\u001b[0m \u001b[1m495s\u001b[0m 524ms/step - accuracy: 0.8940 - loss: 0.2850 - val_accuracy: 0.9120 - val_loss: 0.2000 - learning_rate: 0.0010\n",
            "Epoch 20/20\n",
            "\u001b[1m945/945\u001b[0m \u001b[32m━━━━━━━━━━━━━━━━━━━━\u001b[0m\u001b[37m\u001b[0m \u001b[1m504s\u001b[0m 526ms/step - accuracy: 0.8938 - loss: 0.2758 - val_accuracy: 0.9103 - val_loss: 0.2382 - learning_rate: 0.0010\n"
          ]
        },
        {
          "output_type": "display_data",
          "data": {
            "text/plain": [
              "<Figure size 1200x400 with 2 Axes>"
            ],
            "image/png": "[encoded data removed]"
          },
          "metadata": {}
        },
        {
          "output_type": "stream",
          "name": "stderr",
          "text": [
            "WARNING:absl:Compiled the loaded model, but the compiled metrics have yet to be built. `model.compile_metrics` will be empty until you train or evaluate the model.\n"
          ]
        },
        {
          "output_type": "stream",
          "name": "stdout",
          "text": [
            "Passando por essa situação\n",
            "\u001b[1m237/237\u001b[0m \u001b[32m━━━━━━━━━━━━━━━━━━━━\u001b[0m\u001b[37m\u001b[0m \u001b[1m9s\u001b[0m 35ms/step - accuracy: 0.9342 - loss: 0.1897\n",
            "Best model loaded from melhor.h5 -> val_loss: 0.19223041832447052, val_acc: 0.9326363205909729\n"
          ]
        }
      ],
      "source": [
        "if __name__ == '__main__':\n",
        "    train_model_process(datadir='/content/dataset_rbmk') # Pass the correct dataset directory"
      ]
    }
  ],
  "metadata": {
    "accelerator": "GPU",
    "colab": {
      "gpuType": "T4",
      "provenance": []
    },
    "kaggle": {
      "accelerator": "nvidiaTeslaT4",
      "dataSources": [
        {
          "datasetId": 8572682,
          "sourceId": 13501786,
          "sourceType": "datasetVersion"
        },
        {
          "datasetId": 8587036,
          "sourceId": 13523672,
          "sourceType": "datasetVersion"
        }
      ],
      "dockerImageVersionId": 31154,
      "isGpuEnabled": true,
      "isInternetEnabled": true,
      "language": "python",
      "sourceType": "notebook"
    },
    "kernelspec": {
      "display_name": "Python 3",
      "language": "python",
      "name": "python3"
    },
    "language_info": {
      "codemirror_mode": {
        "name": "ipython",
        "version": 3
      },
      "file_extension": ".py",
      "mimetype": "text/x-python",
      "name": "python",
      "nbconvert_exporter": "python",
      "pygments_lexer": "ipython3",
      "version": "3.11.13"
    }
  },
  "nbformat": 4,
  "nbformat_minor": 0
}