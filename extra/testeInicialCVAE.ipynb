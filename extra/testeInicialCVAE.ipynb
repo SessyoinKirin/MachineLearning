{
 "cells": [
  {
   "cell_type": "code",
   "execution_count": 266,
   "id": "d62ea925",
   "metadata": {},
   "outputs": [],
   "source": [
    "from tensorflow.keras.layers import Dense, Input\n",
    "from tensorflow.keras.layers import Conv2D, Flatten, Lambda, concatenate\n",
    "from tensorflow.keras.layers import Reshape, Conv2DTranspose\n",
    "from tensorflow.keras.models import Model\n",
    "from tensorflow.keras.datasets import mnist\n",
    "from tensorflow.keras.losses import mse, binary_crossentropy\n",
    "from tensorflow.keras.utils import plot_model, to_categorical\n",
    "from tensorflow.keras import backend as K\n",
    "\n",
    "import numpy as np\n",
    "import tensorflow as tf\n",
    "import matplotlib.pyplot as plt\n",
    "import argparse\n",
    "import os"
   ]
  },
  {
   "cell_type": "code",
   "execution_count": 267,
   "id": "d30eadab",
   "metadata": {},
   "outputs": [],
   "source": [
    "(x_train, y_train), (x_test, y_test) = mnist.load_data()\n",
    "\n",
    "img_size = x_train.shape[1]\n",
    "x_train = np.reshape(x_train, [-1, img_size, img_size, 1])\n",
    "x_test = np.reshape(x_test, [-1, img_size, img_size, 1])\n",
    "x_train = x_train.astype('float32')/255.\n",
    "x_test = x_test.astype('float32')/255."
   ]
  },
  {
   "cell_type": "code",
   "execution_count": 268,
   "id": "d89e1ca7",
   "metadata": {},
   "outputs": [
    {
     "name": "stdout",
     "output_type": "stream",
     "text": [
      "x_train.shape: (60000, 28, 28, 1)\n",
      "img_size: 28\n"
     ]
    }
   ],
   "source": [
    "print(f\"x_train.shape: {x_train.shape}\")\n",
    "print(f\"img_size: {img_size}\")"
   ]
  },
  {
   "cell_type": "code",
   "execution_count": 269,
   "id": "1261b6d2",
   "metadata": {},
   "outputs": [
    {
     "name": "stdout",
     "output_type": "stream",
     "text": [
      "num_labels: 10\n"
     ]
    }
   ],
   "source": [
    "num_labels = len(np.unique(y_train))\n",
    "print(f\"num_labels: {num_labels}\")"
   ]
  },
  {
   "cell_type": "code",
   "execution_count": 270,
   "id": "1f9d1054",
   "metadata": {},
   "outputs": [],
   "source": [
    "def sampling(args):\n",
    "    z_mean, z_log_variance = args\n",
    "    batch_size = K.shape(z_mean)[0]\n",
    "    dim = K.int_shape(z_mean)[1]\n",
    "\n",
    "    epsilon = K.random_normal(shape=(batch_size, dim))\n",
    "\n",
    "    return z_mean + K.exp(0.5 * z_log_variance) * epsilon"
   ]
  },
  {
   "cell_type": "code",
   "execution_count": 271,
   "id": "b5dbce6b",
   "metadata": {},
   "outputs": [],
   "source": [
    "input_shape = (img_size, img_size, 1)\n",
    "label_shape = (num_labels,)\n",
    "batch_size = 128\n",
    "kernel_size = 3\n",
    "layer_fiters = [16, 32]\n",
    "latent_dim = 2\n",
    "epochs = 30"
   ]
  },
  {
   "cell_type": "markdown",
   "id": "06e161fa",
   "metadata": {},
   "source": [
    "Encoder"
   ]
  },
  {
   "cell_type": "code",
   "execution_count": 272,
   "id": "78eabc59",
   "metadata": {},
   "outputs": [
    {
     "name": "stderr",
     "output_type": "stream",
     "text": [
      "<>:6: SyntaxWarning: invalid escape sequence '\\C'\n",
      "<>:6: SyntaxWarning: invalid escape sequence '\\C'\n",
      "C:\\Users\\chena\\AppData\\Local\\Temp\\ipykernel_14624\\2076395065.py:6: SyntaxWarning: invalid escape sequence '\\C'\n",
      "  FilePath: \\CVAE\\testeInicialCVAE.ipynb\n"
     ]
    }
   ],
   "source": [
    "'''\n",
    "Author: SessyoinKirin\n",
    "Date: 2025-09-15 09:24:49\n",
    "LastEditors: SessyoinKirin\n",
    "LastEditTime: 2025-09-15 11:04:19\n",
    "FilePath: \\CVAE\\testeInicialCVAE.ipynb\n",
    "Description: \n",
    "\n",
    "Copyright (c) 2025 by SessyoinKirin, All Rights Reserved. \n",
    "'''\n",
    "inputs = Input(shape=(input_shape), name='encoder_input') #(28*28*1)\n",
    "y_label = Input(shape=label_shape, name='label_info') #(10,)\n",
    "x = Dense(img_size * img_size)(y_label) #(784,)\n",
    "x = Reshape((img_size, img_size, 1))(x) #(28*28*1)\n",
    "\n",
    "x = concatenate([inputs, x]) #(28*28*2)\n",
    "\n",
    "for filter_size in layer_fiters:\n",
    "    x = Conv2D(filters= filter_size, \n",
    "               kernel_size = kernel_size,\n",
    "               activation = 'relu',\n",
    "               strides = 2,\n",
    "               padding = 'same')(x)\n",
    "    \n",
    "conv_latent_shape = K.int_shape(x)\n",
    "\n",
    "x = Flatten()(x)\n",
    "x = Dense(16, activation='relu')(x)\n",
    "z_mean = Dense(latent_dim, name=\"z_mean\")(x)\n",
    "z_log_var = Dense(latent_dim, name=\"z_variance\")(x)\n",
    "\n",
    "z= Lambda(sampling, output_shape=(latent_dim,), name='z')([z_mean, z_log_var])\n",
    "\n",
    "encoder_model = Model([inputs, y_label], [z_mean, z_log_var, z], name=\"encoder_model\")"
   ]
  },
  {
   "cell_type": "code",
   "execution_count": 273,
   "id": "a8bda9cd",
   "metadata": {},
   "outputs": [
    {
     "name": "stdout",
     "output_type": "stream",
     "text": [
      "You must install pydot (`pip install pydot`) for `plot_model` to work.\n"
     ]
    }
   ],
   "source": [
    "plot_model(encoder_model, show_shapes=True)"
   ]
  },
  {
   "cell_type": "code",
   "execution_count": 274,
   "id": "08c2b072",
   "metadata": {},
   "outputs": [
    {
     "data": {
      "text/plain": [
       "[16, 32]"
      ]
     },
     "execution_count": 274,
     "metadata": {},
     "output_type": "execute_result"
    }
   ],
   "source": [
    "layer_fiters"
   ]
  },
  {
   "cell_type": "markdown",
   "id": "74a785d8",
   "metadata": {},
   "source": [
    "Decoder"
   ]
  },
  {
   "cell_type": "code",
   "execution_count": 275,
   "id": "3b848025",
   "metadata": {},
   "outputs": [],
   "source": [
    "latent_inputs = Input(shape=(latent_dim,), name='decoder_input')\n",
    "x = concatenate([latent_inputs, y_label])\n",
    "\n",
    "x = Dense(conv_latent_shape[1] * conv_latent_shape[2] * conv_latent_shape[3])(x)\n",
    "x = Reshape((conv_latent_shape[1], conv_latent_shape[2], conv_latent_shape[3]))(x)\n",
    "\n",
    "for filter_size in layer_fiters[::-1]:\n",
    "    x = Conv2DTranspose(filters = filter_size,\n",
    "                        kernel_size = kernel_size,\n",
    "                        activation = 'relu',\n",
    "                        strides = 2,\n",
    "                        padding = 'same')(x)\n",
    "    \n",
    "output = Conv2DTranspose(filters = 1,\n",
    "                         kernel_size = kernel_size,\n",
    "                         activation = 'sigmoid',\n",
    "                         padding = 'same',\n",
    "                         name = 'decoder_output')(x)\n",
    "\n",
    "decoder_model = Model([latent_inputs, y_label], output, name=\"decoder_model\")"
   ]
  },
  {
   "cell_type": "code",
   "execution_count": 276,
   "id": "475bfc53",
   "metadata": {},
   "outputs": [
    {
     "name": "stdout",
     "output_type": "stream",
     "text": [
      "You must install pydot (`pip install pydot`) for `plot_model` to work.\n"
     ]
    }
   ],
   "source": [
    "plot_model(decoder_model, show_shapes= True)"
   ]
  },
  {
   "cell_type": "markdown",
   "id": "11e3f825",
   "metadata": {},
   "source": [
    "VAE"
   ]
  },
  {
   "cell_type": "code",
   "execution_count": 277,
   "id": "bb4ce7f5",
   "metadata": {},
   "outputs": [],
   "source": [
    "f = encoder_model([inputs, y_label])[2]\n",
    "intermediate_output = decoder_model([f, y_label])\n",
    "\n",
    "cvae = Model([inputs, y_label], intermediate_output, name='cvae')\n",
    "\n",
    "# intermdiate_output = decoder_model(encoder_model([inputs, y_label])[2],y_label)\n",
    "# cvae = Model([inputs, y_label], intermdiate_output, name='cvae')"
   ]
  },
  {
   "cell_type": "markdown",
   "id": "cd324309",
   "metadata": {},
   "source": [
    "losses"
   ]
  },
  {
   "cell_type": "code",
   "execution_count": 278,
   "id": "22dc7fdb",
   "metadata": {},
   "outputs": [
    {
     "name": "stdout",
     "output_type": "stream",
     "text": [
      "Epoch 1/10\n",
      "\u001b[1m469/469\u001b[0m \u001b[32m━━━━━━━━━━━━━━━━━━━━\u001b[0m\u001b[37m\u001b[0m \u001b[1m21s\u001b[0m 36ms/step - loss: 0.2444 - mse: 0.0607 - val_loss: 0.1914 - val_mse: 0.0435\n",
      "Epoch 2/10\n",
      "\u001b[1m469/469\u001b[0m \u001b[32m━━━━━━━━━━━━━━━━━━━━\u001b[0m\u001b[37m\u001b[0m \u001b[1m17s\u001b[0m 35ms/step - loss: 0.1830 - mse: 0.0408 - val_loss: 0.1758 - val_mse: 0.0384\n",
      "Epoch 3/10\n",
      "\u001b[1m469/469\u001b[0m \u001b[32m━━━━━━━━━━━━━━━━━━━━\u001b[0m\u001b[37m\u001b[0m \u001b[1m17s\u001b[0m 35ms/step - loss: 0.1725 - mse: 0.0371 - val_loss: 0.1696 - val_mse: 0.0362\n",
      "Epoch 4/10\n",
      "\u001b[1m469/469\u001b[0m \u001b[32m━━━━━━━━━━━━━━━━━━━━\u001b[0m\u001b[37m\u001b[0m \u001b[1m17s\u001b[0m 35ms/step - loss: 0.1685 - mse: 0.0357 - val_loss: 0.1671 - val_mse: 0.0353\n",
      "Epoch 5/10\n",
      "\u001b[1m469/469\u001b[0m \u001b[32m━━━━━━━━━━━━━━━━━━━━\u001b[0m\u001b[37m\u001b[0m \u001b[1m17s\u001b[0m 35ms/step - loss: 0.1664 - mse: 0.0350 - val_loss: 0.1657 - val_mse: 0.0348\n",
      "Epoch 6/10\n",
      "\u001b[1m469/469\u001b[0m \u001b[32m━━━━━━━━━━━━━━━━━━━━\u001b[0m\u001b[37m\u001b[0m \u001b[1m17s\u001b[0m 35ms/step - loss: 0.1650 - mse: 0.0345 - val_loss: 0.1643 - val_mse: 0.0342\n",
      "Epoch 7/10\n",
      "\u001b[1m469/469\u001b[0m \u001b[32m━━━━━━━━━━━━━━━━━━━━\u001b[0m\u001b[37m\u001b[0m \u001b[1m16s\u001b[0m 35ms/step - loss: 0.1639 - mse: 0.0341 - val_loss: 0.1639 - val_mse: 0.0341\n",
      "Epoch 8/10\n",
      "\u001b[1m469/469\u001b[0m \u001b[32m━━━━━━━━━━━━━━━━━━━━\u001b[0m\u001b[37m\u001b[0m \u001b[1m17s\u001b[0m 35ms/step - loss: 0.1631 - mse: 0.0338 - val_loss: 0.1626 - val_mse: 0.0337\n",
      "Epoch 9/10\n",
      "\u001b[1m469/469\u001b[0m \u001b[32m━━━━━━━━━━━━━━━━━━━━\u001b[0m\u001b[37m\u001b[0m \u001b[1m17s\u001b[0m 35ms/step - loss: 0.1624 - mse: 0.0336 - val_loss: 0.1621 - val_mse: 0.0335\n",
      "Epoch 10/10\n",
      "\u001b[1m469/469\u001b[0m \u001b[32m━━━━━━━━━━━━━━━━━━━━\u001b[0m\u001b[37m\u001b[0m \u001b[1m17s\u001b[0m 37ms/step - loss: 0.1619 - mse: 0.0334 - val_loss: 0.1626 - val_mse: 0.0337\n"
     ]
    }
   ],
   "source": [
    "from keras import ops\n",
    "\n",
    "# # Usar ops.reshape em vez de K.flatten\n",
    "# reconstruction_loss = mse(ops.reshape(inputs, (-1,)), ops.reshape(intermediate_output, (-1,)))\n",
    "# reconstruction_loss *= img_size * img_size\n",
    "\n",
    "# # Usar ops do Keras 3.x\n",
    "# kl_loss = 1 + z_log_var - ops.square(z_mean) - ops.exp(z_log_var)\n",
    "# kl_loss = ops.sum(kl_loss, axis=1)\n",
    "# kl_loss = kl_loss * -0.5\n",
    "\n",
    "# vae_loss = ops.mean(reconstruction_loss + kl_loss)\n",
    "\n",
    "# cvae.add_loss(vae_loss)\n",
    "# cvae.compile(optimizer='adam')\n",
    "\n",
    "# # Defina a função de loss de forma correta para o Keras 3.x\n",
    "# def vae_loss(y_true, y_pred):\n",
    "#     # Recupere os tensores reais do contexto de treinamento\n",
    "#     inputs = y_true  # y_true são os dummy targets, mas vamos ignorar\n",
    "#     reconstruction = y_pred\n",
    "    \n",
    "#     # Calcule a reconstruction loss\n",
    "#     reconstruction_loss = mse(ops.reshape(inputs, (-1,)), ops.reshape(reconstruction, (-1,)))\n",
    "#     reconstruction_loss *= img_size * img_size\n",
    "    \n",
    "#     # Para KL loss, precisamos acessar z_mean e z_log_var de outra forma\n",
    "#     # Vamos modificar o encoder para retornar também esses valores como parte do modelo\n",
    "#     return reconstruction_loss\n",
    "\n",
    "# REMOVA a loss personalizada e use binary_crossentropy\n",
    "cvae.compile(optimizer='adam', loss='binary_crossentropy', metrics=['mse'])\n",
    "\n",
    "# Treine novamente\n",
    "history = cvae.fit(\n",
    "    [x_train, to_categorical(y_train)],\n",
    "    x_train,  # Autoencoder - target = input\n",
    "    epochs=10,\n",
    "    batch_size=128,\n",
    "    validation_data=([x_test, to_categorical(y_test)], x_test)\n",
    ")\n",
    "\n",
    "# Compile com a função de loss simplificada primeiro\n",
    "# cvae.compile(optimizer='adam', loss=vae_loss)"
   ]
  },
  {
   "cell_type": "code",
   "execution_count": 279,
   "id": "df5f165b",
   "metadata": {},
   "outputs": [
    {
     "name": "stdout",
     "output_type": "stream",
     "text": [
      "Epoch 1/30\n",
      "\u001b[1m469/469\u001b[0m \u001b[32m━━━━━━━━━━━━━━━━━━━━\u001b[0m\u001b[37m\u001b[0m \u001b[1m18s\u001b[0m 39ms/step - loss: 8.7600e-04 - mse: 2.7139e-04 - val_loss: 1.8846e-06 - val_mse: 1.8277e-09\n",
      "Epoch 2/30\n",
      "\u001b[1m469/469\u001b[0m \u001b[32m━━━━━━━━━━━━━━━━━━━━\u001b[0m\u001b[37m\u001b[0m \u001b[1m17s\u001b[0m 35ms/step - loss: 1.5523e-06 - mse: 1.4794e-09 - val_loss: 1.1611e-06 - val_mse: 4.5380e-10\n",
      "Epoch 3/30\n",
      "\u001b[1m469/469\u001b[0m \u001b[32m━━━━━━━━━━━━━━━━━━━━\u001b[0m\u001b[37m\u001b[0m \u001b[1m17s\u001b[0m 35ms/step - loss: 2.7539e-07 - mse: 7.7906e-11 - val_loss: 3.1990e-08 - val_mse: 8.8730e-13\n",
      "Epoch 4/30\n",
      "\u001b[1m469/469\u001b[0m \u001b[32m━━━━━━━━━━━━━━━━━━━━\u001b[0m\u001b[37m\u001b[0m \u001b[1m17s\u001b[0m 35ms/step - loss: 2.0735e-08 - mse: 3.7159e-13 - val_loss: 1.2317e-08 - val_mse: 1.2031e-13\n",
      "Epoch 5/30\n",
      "\u001b[1m469/469\u001b[0m \u001b[32m━━━━━━━━━━━━━━━━━━━━\u001b[0m\u001b[37m\u001b[0m \u001b[1m17s\u001b[0m 35ms/step - loss: 9.8714e-09 - mse: 8.1658e-14 - val_loss: 6.9596e-09 - val_mse: 3.8515e-14\n",
      "Epoch 6/30\n",
      "\u001b[1m469/469\u001b[0m \u001b[32m━━━━━━━━━━━━━━━━━━━━\u001b[0m\u001b[37m\u001b[0m \u001b[1m16s\u001b[0m 35ms/step - loss: 6.0677e-09 - mse: 3.1971e-14 - val_loss: 4.5798e-09 - val_mse: 1.6850e-14\n",
      "Epoch 7/30\n",
      "\u001b[1m469/469\u001b[0m \u001b[32m━━━━━━━━━━━━━━━━━━━━\u001b[0m\u001b[37m\u001b[0m \u001b[1m17s\u001b[0m 35ms/step - loss: 4.1939e-09 - mse: 1.5878e-14 - val_loss: 3.2914e-09 - val_mse: 8.9900e-15\n",
      "Epoch 8/30\n",
      "\u001b[1m469/469\u001b[0m \u001b[32m━━━━━━━━━━━━━━━━━━━━\u001b[0m\u001b[37m\u001b[0m \u001b[1m16s\u001b[0m 35ms/step - loss: 3.0743e-09 - mse: 8.7566e-15 - val_loss: 2.4874e-09 - val_mse: 5.1018e-15\n",
      "Epoch 9/30\n",
      "\u001b[1m469/469\u001b[0m \u001b[32m━━━━━━━━━━━━━━━━━━━━\u001b[0m\u001b[37m\u001b[0m \u001b[1m17s\u001b[0m 35ms/step - loss: 2.3660e-09 - mse: 5.3703e-15 - val_loss: 1.9399e-09 - val_mse: 3.1948e-15\n",
      "Epoch 10/30\n",
      "\u001b[1m469/469\u001b[0m \u001b[32m━━━━━━━━━━━━━━━━━━━━\u001b[0m\u001b[37m\u001b[0m \u001b[1m17s\u001b[0m 36ms/step - loss: 1.8719e-09 - mse: 3.4439e-15 - val_loss: 1.5614e-09 - val_mse: 2.0661e-15\n",
      "Epoch 11/30\n",
      "\u001b[1m469/469\u001b[0m \u001b[32m━━━━━━━━━━━━━━━━━━━━\u001b[0m\u001b[37m\u001b[0m \u001b[1m17s\u001b[0m 35ms/step - loss: 1.5236e-09 - mse: 2.3335e-15 - val_loss: 1.2820e-09 - val_mse: 1.4098e-15\n",
      "Epoch 12/30\n",
      "\u001b[1m469/469\u001b[0m \u001b[32m━━━━━━━━━━━━━━━━━━━━\u001b[0m\u001b[37m\u001b[0m \u001b[1m17s\u001b[0m 35ms/step - loss: 1.2596e-09 - mse: 1.6460e-15 - val_loss: 1.0665e-09 - val_mse: 9.8559e-16\n",
      "Epoch 13/30\n",
      "\u001b[1m469/469\u001b[0m \u001b[32m━━━━━━━━━━━━━━━━━━━━\u001b[0m\u001b[37m\u001b[0m \u001b[1m17s\u001b[0m 35ms/step - loss: 1.0627e-09 - mse: 1.1980e-15 - val_loss: 9.0011e-10 - val_mse: 7.0314e-16\n",
      "Epoch 14/30\n",
      "\u001b[1m469/469\u001b[0m \u001b[32m━━━━━━━━━━━━━━━━━━━━\u001b[0m\u001b[37m\u001b[0m \u001b[1m17s\u001b[0m 35ms/step - loss: 9.0183e-10 - mse: 8.9418e-16 - val_loss: 7.7146e-10 - val_mse: 5.3754e-16\n",
      "Epoch 15/30\n",
      "\u001b[1m469/469\u001b[0m \u001b[32m━━━━━━━━━━━━━━━━━━━━\u001b[0m\u001b[37m\u001b[0m \u001b[1m17s\u001b[0m 35ms/step - loss: 7.7602e-10 - mse: 6.9086e-16 - val_loss: 6.6230e-10 - val_mse: 3.9914e-16\n",
      "Epoch 16/30\n",
      "\u001b[1m469/469\u001b[0m \u001b[32m━━━━━━━━━━━━━━━━━━━━\u001b[0m\u001b[37m\u001b[0m \u001b[1m18s\u001b[0m 38ms/step - loss: 6.6976e-10 - mse: 5.0898e-16 - val_loss: 5.7782e-10 - val_mse: 3.0968e-16\n",
      "Epoch 17/30\n",
      "\u001b[1m469/469\u001b[0m \u001b[32m━━━━━━━━━━━━━━━━━━━━\u001b[0m\u001b[37m\u001b[0m \u001b[1m18s\u001b[0m 37ms/step - loss: 5.8300e-10 - mse: 4.0238e-16 - val_loss: 5.0343e-10 - val_mse: 2.4586e-16\n",
      "Epoch 18/30\n",
      "\u001b[1m469/469\u001b[0m \u001b[32m━━━━━━━━━━━━━━━━━━━━\u001b[0m\u001b[37m\u001b[0m \u001b[1m18s\u001b[0m 39ms/step - loss: 5.1110e-10 - mse: 3.2396e-16 - val_loss: 4.3863e-10 - val_mse: 1.8748e-16\n",
      "Epoch 19/30\n",
      "\u001b[1m469/469\u001b[0m \u001b[32m━━━━━━━━━━━━━━━━━━━━\u001b[0m\u001b[37m\u001b[0m \u001b[1m18s\u001b[0m 38ms/step - loss: 4.4802e-10 - mse: 2.5235e-16 - val_loss: 3.8637e-10 - val_mse: 1.4726e-16\n",
      "Epoch 20/30\n",
      "\u001b[1m469/469\u001b[0m \u001b[32m━━━━━━━━━━━━━━━━━━━━\u001b[0m\u001b[37m\u001b[0m \u001b[1m17s\u001b[0m 37ms/step - loss: 3.9509e-10 - mse: 2.0401e-16 - val_loss: 3.4077e-10 - val_mse: 1.2311e-16\n",
      "Epoch 21/30\n",
      "\u001b[1m469/469\u001b[0m \u001b[32m━━━━━━━━━━━━━━━━━━━━\u001b[0m\u001b[37m\u001b[0m \u001b[1m17s\u001b[0m 37ms/step - loss: 3.4846e-10 - mse: 1.6504e-16 - val_loss: 2.9809e-10 - val_mse: 9.2687e-17\n",
      "Epoch 22/30\n",
      "\u001b[1m469/469\u001b[0m \u001b[32m━━━━━━━━━━━━━━━━━━━━\u001b[0m\u001b[37m\u001b[0m \u001b[1m17s\u001b[0m 37ms/step - loss: 3.0782e-10 - mse: 1.3448e-16 - val_loss: 2.6224e-10 - val_mse: 7.5059e-17\n",
      "Epoch 23/30\n",
      "\u001b[1m469/469\u001b[0m \u001b[32m━━━━━━━━━━━━━━━━━━━━\u001b[0m\u001b[37m\u001b[0m \u001b[1m17s\u001b[0m 37ms/step - loss: 2.7011e-10 - mse: 1.0628e-16 - val_loss: 2.3186e-10 - val_mse: 6.0528e-17\n",
      "Epoch 24/30\n",
      "\u001b[1m469/469\u001b[0m \u001b[32m━━━━━━━━━━━━━━━━━━━━\u001b[0m\u001b[37m\u001b[0m \u001b[1m17s\u001b[0m 37ms/step - loss: 2.3875e-10 - mse: 8.5273e-17 - val_loss: 2.0312e-10 - val_mse: 4.8252e-17\n",
      "Epoch 25/30\n",
      "\u001b[1m469/469\u001b[0m \u001b[32m━━━━━━━━━━━━━━━━━━━━\u001b[0m\u001b[37m\u001b[0m \u001b[1m17s\u001b[0m 37ms/step - loss: 2.0980e-10 - mse: 6.9998e-17 - val_loss: 1.7606e-10 - val_mse: 3.6159e-17\n",
      "Epoch 26/30\n",
      "\u001b[1m469/469\u001b[0m \u001b[32m━━━━━━━━━━━━━━━━━━━━\u001b[0m\u001b[37m\u001b[0m \u001b[1m17s\u001b[0m 37ms/step - loss: 1.8347e-10 - mse: 5.4692e-17 - val_loss: 1.5423e-10 - val_mse: 2.8652e-17\n",
      "Epoch 27/30\n",
      "\u001b[1m469/469\u001b[0m \u001b[32m━━━━━━━━━━━━━━━━━━━━\u001b[0m\u001b[37m\u001b[0m \u001b[1m17s\u001b[0m 37ms/step - loss: 1.6040e-10 - mse: 4.3589e-17 - val_loss: 1.3447e-10 - val_mse: 2.2640e-17\n",
      "Epoch 28/30\n",
      "\u001b[1m469/469\u001b[0m \u001b[32m━━━━━━━━━━━━━━━━━━━━\u001b[0m\u001b[37m\u001b[0m \u001b[1m17s\u001b[0m 37ms/step - loss: 1.4008e-10 - mse: 3.4485e-17 - val_loss: 1.1672e-10 - val_mse: 1.7362e-17\n",
      "Epoch 29/30\n",
      "\u001b[1m469/469\u001b[0m \u001b[32m━━━━━━━━━━━━━━━━━━━━\u001b[0m\u001b[37m\u001b[0m \u001b[1m17s\u001b[0m 37ms/step - loss: 1.2204e-10 - mse: 2.7769e-17 - val_loss: 1.0124e-10 - val_mse: 1.3616e-17\n",
      "Epoch 30/30\n",
      "\u001b[1m469/469\u001b[0m \u001b[32m━━━━━━━━━━━━━━━━━━━━\u001b[0m\u001b[37m\u001b[0m \u001b[1m17s\u001b[0m 37ms/step - loss: 1.0568e-10 - mse: 2.1238e-17 - val_loss: 8.8121e-11 - val_mse: 1.1008e-17\n"
     ]
    },
    {
     "data": {
      "text/plain": [
       "<keras.src.callbacks.history.History at 0x159f9e90050>"
      ]
     },
     "execution_count": 279,
     "metadata": {},
     "output_type": "execute_result"
    }
   ],
   "source": [
    "# cvae.fit([x_train, to_categorical(y_train)],\n",
    "#          epochs = epochs,\n",
    "#          batch_size = batch_size,\n",
    "#          validation_data = ([x_test, to_categorical(y_test)], None))\n",
    "\n",
    "\n",
    "# Converta os labels para categorical\n",
    "y_train_cat = to_categorical(y_train)\n",
    "y_test_cat = to_categorical(y_test)\n",
    "\n",
    "# Fit com dados dummy\n",
    "dummy_targets = np.zeros_like(x_train)\n",
    "dummy_targets_val = np.zeros_like(x_test)\n",
    "\n",
    "cvae.fit(\n",
    "    [x_train, to_categorical(y_train)],\n",
    "    dummy_targets,\n",
    "    epochs=epochs,\n",
    "    batch_size=batch_size,\n",
    "    validation_data=([x_test, to_categorical(y_test)], dummy_targets_val)\n",
    ")"
   ]
  },
  {
   "cell_type": "code",
   "execution_count": 280,
   "id": "432c43a9",
   "metadata": {},
   "outputs": [],
   "source": [
    "def plot_imgs(imgs):\n",
    "    _,axs = plt.subplots(5,5, figsize=(10,10))\n",
    "\n",
    "    axs = axs.flatten()\n",
    "    for img,ax in zip(imgs, axs):\n",
    "        ax.imshow(img, cmap='gray')\n",
    "\n",
    "    plt.show()"
   ]
  },
  {
   "cell_type": "code",
   "execution_count": 281,
   "id": "39bf1f4b",
   "metadata": {},
   "outputs": [
    {
     "name": "stdout",
     "output_type": "stream",
     "text": [
      "\u001b[1m1/1\u001b[0m \u001b[32m━━━━━━━━━━━━━━━━━━━━\u001b[0m\u001b[37m\u001b[0m \u001b[1m0s\u001b[0m 332ms/step\n",
      "Prediction range: 0.0 8.4207805e-08\n",
      "Prediction mean: 3.9081214e-11\n",
      "WARNING:tensorflow:5 out of the last 5 calls to <function TensorFlowTrainer.make_predict_function.<locals>.one_step_on_data_distributed at 0x0000015990B8A980> triggered tf.function retracing. Tracing is expensive and the excessive number of tracings could be due to (1) creating @tf.function repeatedly in a loop, (2) passing tensors with different shapes, (3) passing Python objects instead of tensors. For (1), please define your @tf.function outside of the loop. For (2), @tf.function has reduce_retracing=True option that can avoid unnecessary retracing. For (3), please refer to https://www.tensorflow.org/guide/function#controlling_retracing and https://www.tensorflow.org/api_docs/python/tf/function for  more details.\n",
      "\u001b[1m1/1\u001b[0m \u001b[32m━━━━━━━━━━━━━━━━━━━━\u001b[0m\u001b[37m\u001b[0m \u001b[1m0s\u001b[0m 219ms/step\n"
     ]
    }
   ],
   "source": [
    "# Use mais amostras para garantir todas as classes\n",
    "test_pred = cvae.predict([x_test[:10], to_categorical(y_test[:10])])\n",
    "print(\"Prediction range:\", test_pred.min(), test_pred.max())\n",
    "print(\"Prediction mean:\", test_pred.mean())\n",
    "\n",
    "# Ou especifique o número de classes explicitamente\n",
    "test_pred = cvae.predict([x_test[:1], to_categorical(y_test[:1], num_classes=10)])"
   ]
  },
  {
   "cell_type": "code",
   "execution_count": 282,
   "id": "c5b5fa00",
   "metadata": {},
   "outputs": [
    {
     "name": "stdout",
     "output_type": "stream",
     "text": [
      "\u001b[1m1/1\u001b[0m \u001b[32m━━━━━━━━━━━━━━━━━━━━\u001b[0m\u001b[37m\u001b[0m \u001b[1m0s\u001b[0m 49ms/step\n"
     ]
    }
   ],
   "source": [
    "res = cvae.predict((x_test[:25], to_categorical(y_test[:25])))"
   ]
  },
  {
   "cell_type": "code",
   "execution_count": 283,
   "id": "2500a609",
   "metadata": {},
   "outputs": [
    {
     "data": {
      "image/png": "[encoded data removed]",
      "text/plain": [
       "<Figure size 1000x400 with 10 Axes>"
      ]
     },
     "metadata": {},
     "output_type": "display_data"
    }
   ],
   "source": [
    "# Verifique algumas imagens originais\n",
    "plt.figure(figsize=(10, 4))\n",
    "for i in range(10):\n",
    "    plt.subplot(2, 5, i+1)\n",
    "    plt.imshow(x_train[i].squeeze(), cmap='gray')\n",
    "    plt.title(f'Label: {y_train[i]}')\n",
    "    plt.axis('off')\n",
    "plt.show()"
   ]
  },
  {
   "cell_type": "code",
   "execution_count": 284,
   "id": "df11e5fb",
   "metadata": {},
   "outputs": [
    {
     "data": {
      "image/png": "[encoded data removed]",
      "text/plain": [
       "<Figure size 1000x1000 with 25 Axes>"
      ]
     },
     "metadata": {},
     "output_type": "display_data"
    }
   ],
   "source": [
    "plot_imgs(res)"
   ]
  }
 ],
 "metadata": {
  "kernelspec": {
   "display_name": "Python 3",
   "language": "python",
   "name": "python3"
  },
  "language_info": {
   "codemirror_mode": {
    "name": "ipython",
    "version": 3
   },
   "file_extension": ".py",
   "mimetype": "text/x-python",
   "name": "python",
   "nbconvert_exporter": "python",
   "pygments_lexer": "ipython3",
   "version": "3.13.5"
  }
 },
 "nbformat": 4,
 "nbformat_minor": 5
}
